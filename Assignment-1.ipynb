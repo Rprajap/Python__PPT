{
 "cells": [
  {
   "cell_type": "markdown",
   "id": "e1c89fbf",
   "metadata": {},
   "source": [
    "**Q1**:-Write a Python program to reverse a string without using any built-in string reversal functions.\n",
    "    \n",
    "**Answer**:- "
   ]
  },
  {
   "cell_type": "code",
   "execution_count": 1,
   "id": "4c294ad2",
   "metadata": {},
   "outputs": [
    {
     "name": "stdout",
     "output_type": "stream",
     "text": [
      "noruenI\n"
     ]
    }
   ],
   "source": [
    "def reverse_string(string):\n",
    "    reversed_string = \"\"\n",
    "    for i in range(len(string)-1, -1, -1):\n",
    "        reversed_string += string[i]\n",
    "    return reversed_string\n",
    "\n",
    "# Example \n",
    "input_string = \"Ineuron\"\n",
    "reversed_string = reverse_string(input_string)\n",
    "print(reversed_string)"
   ]
  },
  {
   "cell_type": "markdown",
   "id": "6e37f191",
   "metadata": {},
   "source": [
    "**Q2**. Implement a function to check if a given string is a palindrome.\n",
    "\n",
    "**Answer**:-"
   ]
  },
  {
   "cell_type": "code",
   "execution_count": 2,
   "id": "32b91ee9",
   "metadata": {},
   "outputs": [],
   "source": [
    "def is_palindrome(string):\n",
    "    # Remove spaces and convert to lowercase\n",
    "    #string = string.replace(\" \", \"\").lower()\n",
    "    \n",
    "    # Check if the string is equal to its reverse\n",
    "    if string == string[::-1]:\n",
    "        return True\n",
    "    else:\n",
    "        return False\n"
   ]
  },
  {
   "cell_type": "code",
   "execution_count": 3,
   "id": "afb15e7a",
   "metadata": {},
   "outputs": [
    {
     "name": "stdout",
     "output_type": "stream",
     "text": [
      "True\n"
     ]
    }
   ],
   "source": [
    "print(is_palindrome(\"racecar\"))  "
   ]
  },
  {
   "cell_type": "markdown",
   "id": "206b1daa",
   "metadata": {},
   "source": [
    "**Q3**:-Write a program to find the largest element in a given list.\n",
    "    \n",
    "**Answer**:- "
   ]
  },
  {
   "cell_type": "code",
   "execution_count": 4,
   "id": "85ec866b",
   "metadata": {},
   "outputs": [
    {
     "name": "stdout",
     "output_type": "stream",
     "text": [
      "The largest number in the list is: 25\n"
     ]
    }
   ],
   "source": [
    "def find_largest_element(lst):\n",
    "    largest = lst[0]\n",
    "    for num in lst:\n",
    "        if num > largest:\n",
    "            largest = num\n",
    "    return largest\n",
    "\n",
    "# Example usage\n",
    "numbers = [10, 5, 20, 15, 25]\n",
    "largest_number = find_largest_element(numbers)\n",
    "print(\"The largest number in the list is:\", largest_number)\n"
   ]
  },
  {
   "cell_type": "markdown",
   "id": "3ee8efd3",
   "metadata": {},
   "source": [
    "**Q4**. Implement a function to count the occurrence of each element in a list.\n",
    "\n",
    "**Answer**:- "
   ]
  },
  {
   "cell_type": "code",
   "execution_count": 5,
   "id": "9f53a669",
   "metadata": {},
   "outputs": [],
   "source": [
    "def count_occurrences(lst):\n",
    "    counts = {}\n",
    "    for element in lst:\n",
    "        if element in counts:\n",
    "            counts[element] += 1\n",
    "        else:\n",
    "            counts[element] = 1\n",
    "    return counts"
   ]
  },
  {
   "cell_type": "code",
   "execution_count": 6,
   "id": "bb241777",
   "metadata": {},
   "outputs": [
    {
     "name": "stdout",
     "output_type": "stream",
     "text": [
      "{1: 2, 2: 2, 3: 3, 4: 3, 5: 1}\n"
     ]
    }
   ],
   "source": [
    "my_list = [1, 2, 3, 2, 1, 3, 3, 4, 5, 4, 4]\n",
    "result = count_occurrences(my_list)\n",
    "print(result)"
   ]
  },
  {
   "cell_type": "markdown",
   "id": "4a46ab11",
   "metadata": {},
   "source": [
    "**Q5**. Write a Python program to find the second largest number in a list.\n",
    "\n",
    "**Answer**:- "
   ]
  },
  {
   "cell_type": "code",
   "execution_count": 7,
   "id": "d95d55b9",
   "metadata": {},
   "outputs": [
    {
     "name": "stdout",
     "output_type": "stream",
     "text": [
      "The second largest number in the list is: 10\n"
     ]
    }
   ],
   "source": [
    "def find_second_largest(numbers):\n",
    "    if len(numbers) < 2:\n",
    "        return \"List should have at least two numbers\"\n",
    "    \n",
    "    largest = float('-inf')\n",
    "    second_largest = float('-inf')\n",
    "    \n",
    "    for num in numbers:\n",
    "        if num > largest:\n",
    "            second_largest = largest\n",
    "            largest = num\n",
    "        elif num > second_largest and num != largest:\n",
    "            second_largest = num\n",
    "    \n",
    "    if second_largest == float('-inf'):\n",
    "        return \"There is no second largest number in the list\"\n",
    "    \n",
    "    return second_largest\n",
    "\n",
    "# Example usage\n",
    "numbers = [5, 10, 12, 8, 2, 7]\n",
    "second_largest = find_second_largest(numbers)\n",
    "print(\"The second largest number in the list is:\", second_largest)\n"
   ]
  },
  {
   "cell_type": "markdown",
   "id": "d6a299d6",
   "metadata": {},
   "source": [
    "**Q6**. Implement a function to remove duplicate elements from a list.\n",
    "\n",
    "**Answer**:-"
   ]
  },
  {
   "cell_type": "code",
   "execution_count": 8,
   "id": "f0b27277",
   "metadata": {},
   "outputs": [
    {
     "name": "stdout",
     "output_type": "stream",
     "text": [
      "[1, 2, 3, 4, 5, 6, 7, 8, 9]\n"
     ]
    }
   ],
   "source": [
    "def remove_duplicates(lst):\n",
    "    return list(set(lst))\n",
    "\n",
    "\n",
    "numbers = [1, 2, 3, 4, 4, 5, 6, 6, 7, 8, 8, 9]\n",
    "print(remove_duplicates(numbers))"
   ]
  },
  {
   "cell_type": "markdown",
   "id": "ef336e26",
   "metadata": {},
   "source": [
    "**Q7**. Write a program to calculate the factorial of a given number.\n",
    "\n",
    "**Answer**:-"
   ]
  },
  {
   "cell_type": "code",
   "execution_count": 9,
   "id": "d66a7ed7",
   "metadata": {},
   "outputs": [
    {
     "name": "stdout",
     "output_type": "stream",
     "text": [
      "Enter a number: 5\n",
      "The factorial of 5 is 120\n"
     ]
    }
   ],
   "source": [
    "def factorial(n):\n",
    "    if n == 0:\n",
    "        return 1\n",
    "    else:\n",
    "        return n * factorial(n-1)\n",
    "\n",
    "number = int(input(\"Enter a number: \"))\n",
    "result = factorial(number)\n",
    "print(\"The factorial of\", number, \"is\", result)\n"
   ]
  },
  {
   "cell_type": "markdown",
   "id": "71c8be4f",
   "metadata": {},
   "source": [
    "**Q8**. Implement a function to check if a given number is prime.\n",
    "\n",
    "**Answer**:-"
   ]
  },
  {
   "cell_type": "code",
   "execution_count": 10,
   "id": "b0272130",
   "metadata": {},
   "outputs": [],
   "source": [
    "def is_prime(number):\n",
    "    if number <= 1:\n",
    "        return False\n",
    "    for i in range(2, int(number ** 0.5) + 1):\n",
    "        if number % i == 0:\n",
    "            return False\n",
    "    return True"
   ]
  },
  {
   "cell_type": "code",
   "execution_count": 11,
   "id": "5182c8a8",
   "metadata": {},
   "outputs": [
    {
     "name": "stdout",
     "output_type": "stream",
     "text": [
      "True\n"
     ]
    }
   ],
   "source": [
    "print(is_prime(7))"
   ]
  },
  {
   "cell_type": "markdown",
   "id": "7550668c",
   "metadata": {},
   "source": [
    "**Q9**. Write a Python program to sort a list of integers in ascending order.\n",
    "\n",
    "**Answer**:-"
   ]
  },
  {
   "cell_type": "code",
   "execution_count": 12,
   "id": "a7a88b01",
   "metadata": {},
   "outputs": [
    {
     "name": "stdout",
     "output_type": "stream",
     "text": [
      "[1, 2, 5, 8, 9]\n"
     ]
    }
   ],
   "source": [
    "def sort_list(lst):\n",
    "    lst.sort()\n",
    "    return lst\n",
    "\n",
    "# Example usage\n",
    "my_list = [5, 2, 8, 1, 9]\n",
    "sorted_list = sort_list(my_list)\n",
    "print(sorted_list)\n"
   ]
  },
  {
   "cell_type": "markdown",
   "id": "2a799d09",
   "metadata": {},
   "source": [
    "**Q10**. Implement a function to find the sum of all numbers in a list.\n",
    "\n",
    "**Answer**:-"
   ]
  },
  {
   "cell_type": "code",
   "execution_count": 13,
   "id": "68e560ac",
   "metadata": {},
   "outputs": [
    {
     "name": "stdout",
     "output_type": "stream",
     "text": [
      "63\n"
     ]
    }
   ],
   "source": [
    "def calculate_sum(lst):\n",
    "    sum = 0\n",
    "    for num in numbers:\n",
    "        sum += num\n",
    "    return sum\n",
    "\n",
    "list1= [1, 2, 3, 4, 5]\n",
    "result = calculate_sum(list1)\n",
    "print(result) \n"
   ]
  },
  {
   "cell_type": "markdown",
   "id": "f6d18ed8",
   "metadata": {},
   "source": [
    "**Q11**.Write a program to find the common elements between two lists\n",
    "\n",
    "**Answer**:-"
   ]
  },
  {
   "cell_type": "code",
   "execution_count": 14,
   "id": "f9b1299f",
   "metadata": {},
   "outputs": [
    {
     "name": "stdout",
     "output_type": "stream",
     "text": [
      "Common elements: [4, 5]\n"
     ]
    }
   ],
   "source": [
    "def find_common_elements(list1, list2):\n",
    "    common_elements = []\n",
    "    for element in list1:\n",
    "        if element in list2:\n",
    "            common_elements.append(element)\n",
    "    return common_elements\n",
    "\n",
    "# Example usage\n",
    "list1 = [1, 2, 3, 4, 5]\n",
    "list2 = [4, 5, 6, 7, 8]\n",
    "common_elements = find_common_elements(list1, list2)\n",
    "print(\"Common elements:\", common_elements)\n"
   ]
  },
  {
   "cell_type": "markdown",
   "id": "58246b85",
   "metadata": {},
   "source": [
    "**Q12**. Implement a function to check if a given string is an anagram of another string.\n",
    "\n",
    "**Answer**:-"
   ]
  },
  {
   "cell_type": "code",
   "execution_count": 15,
   "id": "675091fe",
   "metadata": {},
   "outputs": [],
   "source": [
    "def is_anagram(str1, str2):\n",
    "    sorted_str1 = sorted(str1)\n",
    "    sorted_str2 = sorted(str2)\n",
    "    \n",
    "    return sorted_str1 == sorted_str2"
   ]
  },
  {
   "cell_type": "code",
   "execution_count": 16,
   "id": "f5e3f646",
   "metadata": {},
   "outputs": [
    {
     "name": "stdout",
     "output_type": "stream",
     "text": [
      "listen and silent are anagrams.\n"
     ]
    }
   ],
   "source": [
    "str1 = \"listen\"\n",
    "str2 = \"silent\"\n",
    "\n",
    "if is_anagram(str1, str2):\n",
    "    print(f\"{str1} and {str2} are anagrams.\")\n",
    "else:\n",
    "    print(f\"{str1} and {str2} are not anagrams.\")"
   ]
  },
  {
   "cell_type": "markdown",
   "id": "2fe20803",
   "metadata": {},
   "source": [
    "**Q13**. Write a Python program to generate all permutations of a given string.\n",
    "\n",
    "**Answer**:-"
   ]
  },
  {
   "cell_type": "code",
   "execution_count": 17,
   "id": "4f772c04",
   "metadata": {},
   "outputs": [],
   "source": [
    "# Function to find permutations of a given string\n",
    "from itertools import permutations\n",
    " \n",
    "def allPermutations(str):\n",
    "    # Get all permutations of string 'ABC'\n",
    "    permList = permutations(str)\n",
    "    # print all permutations\n",
    "    for perm in list(permList):\n",
    "        print (''.join(perm))\n"
   ]
  },
  {
   "cell_type": "code",
   "execution_count": 18,
   "id": "69e32cfb",
   "metadata": {},
   "outputs": [
    {
     "name": "stdout",
     "output_type": "stream",
     "text": [
      "Ramdas\n",
      "Ramdsa\n",
      "Ramads\n",
      "Ramasd\n",
      "Ramsda\n",
      "Ramsad\n",
      "Radmas\n",
      "Radmsa\n",
      "Radams\n",
      "Radasm\n",
      "Radsma\n",
      "Radsam\n",
      "Raamds\n",
      "Raamsd\n",
      "Raadms\n",
      "Raadsm\n",
      "Raasmd\n",
      "Raasdm\n",
      "Rasmda\n",
      "Rasmad\n",
      "Rasdma\n",
      "Rasdam\n",
      "Rasamd\n",
      "Rasadm\n",
      "Rmadas\n",
      "Rmadsa\n",
      "Rmaads\n",
      "Rmaasd\n",
      "Rmasda\n",
      "Rmasad\n",
      "Rmdaas\n",
      "Rmdasa\n",
      "Rmdaas\n",
      "Rmdasa\n",
      "Rmdsaa\n",
      "Rmdsaa\n",
      "Rmaads\n",
      "Rmaasd\n",
      "Rmadas\n",
      "Rmadsa\n",
      "Rmasad\n",
      "Rmasda\n",
      "Rmsada\n",
      "Rmsaad\n",
      "Rmsdaa\n",
      "Rmsdaa\n",
      "Rmsaad\n",
      "Rmsada\n",
      "Rdamas\n",
      "Rdamsa\n",
      "Rdaams\n",
      "Rdaasm\n",
      "Rdasma\n",
      "Rdasam\n",
      "Rdmaas\n",
      "Rdmasa\n",
      "Rdmaas\n",
      "Rdmasa\n",
      "Rdmsaa\n",
      "Rdmsaa\n",
      "Rdaams\n",
      "Rdaasm\n",
      "Rdamas\n",
      "Rdamsa\n",
      "Rdasam\n",
      "Rdasma\n",
      "Rdsama\n",
      "Rdsaam\n",
      "Rdsmaa\n",
      "Rdsmaa\n",
      "Rdsaam\n",
      "Rdsama\n",
      "Raamds\n",
      "Raamsd\n",
      "Raadms\n",
      "Raadsm\n",
      "Raasmd\n",
      "Raasdm\n",
      "Ramads\n",
      "Ramasd\n",
      "Ramdas\n",
      "Ramdsa\n",
      "Ramsad\n",
      "Ramsda\n",
      "Radams\n",
      "Radasm\n",
      "Radmas\n",
      "Radmsa\n",
      "Radsam\n",
      "Radsma\n",
      "Rasamd\n",
      "Rasadm\n",
      "Rasmad\n",
      "Rasmda\n",
      "Rasdam\n",
      "Rasdma\n",
      "Rsamda\n",
      "Rsamad\n",
      "Rsadma\n",
      "Rsadam\n",
      "Rsaamd\n",
      "Rsaadm\n",
      "Rsmada\n",
      "Rsmaad\n",
      "Rsmdaa\n",
      "Rsmdaa\n",
      "Rsmaad\n",
      "Rsmada\n",
      "Rsdama\n",
      "Rsdaam\n",
      "Rsdmaa\n",
      "Rsdmaa\n",
      "Rsdaam\n",
      "Rsdama\n",
      "Rsaamd\n",
      "Rsaadm\n",
      "Rsamad\n",
      "Rsamda\n",
      "Rsadam\n",
      "Rsadma\n",
      "aRmdas\n",
      "aRmdsa\n",
      "aRmads\n",
      "aRmasd\n",
      "aRmsda\n",
      "aRmsad\n",
      "aRdmas\n",
      "aRdmsa\n",
      "aRdams\n",
      "aRdasm\n",
      "aRdsma\n",
      "aRdsam\n",
      "aRamds\n",
      "aRamsd\n",
      "aRadms\n",
      "aRadsm\n",
      "aRasmd\n",
      "aRasdm\n",
      "aRsmda\n",
      "aRsmad\n",
      "aRsdma\n",
      "aRsdam\n",
      "aRsamd\n",
      "aRsadm\n",
      "amRdas\n",
      "amRdsa\n",
      "amRads\n",
      "amRasd\n",
      "amRsda\n",
      "amRsad\n",
      "amdRas\n",
      "amdRsa\n",
      "amdaRs\n",
      "amdasR\n",
      "amdsRa\n",
      "amdsaR\n",
      "amaRds\n",
      "amaRsd\n",
      "amadRs\n",
      "amadsR\n",
      "amasRd\n",
      "amasdR\n",
      "amsRda\n",
      "amsRad\n",
      "amsdRa\n",
      "amsdaR\n",
      "amsaRd\n",
      "amsadR\n",
      "adRmas\n",
      "adRmsa\n",
      "adRams\n",
      "adRasm\n",
      "adRsma\n",
      "adRsam\n",
      "admRas\n",
      "admRsa\n",
      "admaRs\n",
      "admasR\n",
      "admsRa\n",
      "admsaR\n",
      "adaRms\n",
      "adaRsm\n",
      "adamRs\n",
      "adamsR\n",
      "adasRm\n",
      "adasmR\n",
      "adsRma\n",
      "adsRam\n",
      "adsmRa\n",
      "adsmaR\n",
      "adsaRm\n",
      "adsamR\n",
      "aaRmds\n",
      "aaRmsd\n",
      "aaRdms\n",
      "aaRdsm\n",
      "aaRsmd\n",
      "aaRsdm\n",
      "aamRds\n",
      "aamRsd\n",
      "aamdRs\n",
      "aamdsR\n",
      "aamsRd\n",
      "aamsdR\n",
      "aadRms\n",
      "aadRsm\n",
      "aadmRs\n",
      "aadmsR\n",
      "aadsRm\n",
      "aadsmR\n",
      "aasRmd\n",
      "aasRdm\n",
      "aasmRd\n",
      "aasmdR\n",
      "aasdRm\n",
      "aasdmR\n",
      "asRmda\n",
      "asRmad\n",
      "asRdma\n",
      "asRdam\n",
      "asRamd\n",
      "asRadm\n",
      "asmRda\n",
      "asmRad\n",
      "asmdRa\n",
      "asmdaR\n",
      "asmaRd\n",
      "asmadR\n",
      "asdRma\n",
      "asdRam\n",
      "asdmRa\n",
      "asdmaR\n",
      "asdaRm\n",
      "asdamR\n",
      "asaRmd\n",
      "asaRdm\n",
      "asamRd\n",
      "asamdR\n",
      "asadRm\n",
      "asadmR\n",
      "mRadas\n",
      "mRadsa\n",
      "mRaads\n",
      "mRaasd\n",
      "mRasda\n",
      "mRasad\n",
      "mRdaas\n",
      "mRdasa\n",
      "mRdaas\n",
      "mRdasa\n",
      "mRdsaa\n",
      "mRdsaa\n",
      "mRaads\n",
      "mRaasd\n",
      "mRadas\n",
      "mRadsa\n",
      "mRasad\n",
      "mRasda\n",
      "mRsada\n",
      "mRsaad\n",
      "mRsdaa\n",
      "mRsdaa\n",
      "mRsaad\n",
      "mRsada\n",
      "maRdas\n",
      "maRdsa\n",
      "maRads\n",
      "maRasd\n",
      "maRsda\n",
      "maRsad\n",
      "madRas\n",
      "madRsa\n",
      "madaRs\n",
      "madasR\n",
      "madsRa\n",
      "madsaR\n",
      "maaRds\n",
      "maaRsd\n",
      "maadRs\n",
      "maadsR\n",
      "maasRd\n",
      "maasdR\n",
      "masRda\n",
      "masRad\n",
      "masdRa\n",
      "masdaR\n",
      "masaRd\n",
      "masadR\n",
      "mdRaas\n",
      "mdRasa\n",
      "mdRaas\n",
      "mdRasa\n",
      "mdRsaa\n",
      "mdRsaa\n",
      "mdaRas\n",
      "mdaRsa\n",
      "mdaaRs\n",
      "mdaasR\n",
      "mdasRa\n",
      "mdasaR\n",
      "mdaRas\n",
      "mdaRsa\n",
      "mdaaRs\n",
      "mdaasR\n",
      "mdasRa\n",
      "mdasaR\n",
      "mdsRaa\n",
      "mdsRaa\n",
      "mdsaRa\n",
      "mdsaaR\n",
      "mdsaRa\n",
      "mdsaaR\n",
      "maRads\n",
      "maRasd\n",
      "maRdas\n",
      "maRdsa\n",
      "maRsad\n",
      "maRsda\n",
      "maaRds\n",
      "maaRsd\n",
      "maadRs\n",
      "maadsR\n",
      "maasRd\n",
      "maasdR\n",
      "madRas\n",
      "madRsa\n",
      "madaRs\n",
      "madasR\n",
      "madsRa\n",
      "madsaR\n",
      "masRad\n",
      "masRda\n",
      "masaRd\n",
      "masadR\n",
      "masdRa\n",
      "masdaR\n",
      "msRada\n",
      "msRaad\n",
      "msRdaa\n",
      "msRdaa\n",
      "msRaad\n",
      "msRada\n",
      "msaRda\n",
      "msaRad\n",
      "msadRa\n",
      "msadaR\n",
      "msaaRd\n",
      "msaadR\n",
      "msdRaa\n",
      "msdRaa\n",
      "msdaRa\n",
      "msdaaR\n",
      "msdaRa\n",
      "msdaaR\n",
      "msaRad\n",
      "msaRda\n",
      "msaaRd\n",
      "msaadR\n",
      "msadRa\n",
      "msadaR\n",
      "dRamas\n",
      "dRamsa\n",
      "dRaams\n",
      "dRaasm\n",
      "dRasma\n",
      "dRasam\n",
      "dRmaas\n",
      "dRmasa\n",
      "dRmaas\n",
      "dRmasa\n",
      "dRmsaa\n",
      "dRmsaa\n",
      "dRaams\n",
      "dRaasm\n",
      "dRamas\n",
      "dRamsa\n",
      "dRasam\n",
      "dRasma\n",
      "dRsama\n",
      "dRsaam\n",
      "dRsmaa\n",
      "dRsmaa\n",
      "dRsaam\n",
      "dRsama\n",
      "daRmas\n",
      "daRmsa\n",
      "daRams\n",
      "daRasm\n",
      "daRsma\n",
      "daRsam\n",
      "damRas\n",
      "damRsa\n",
      "damaRs\n",
      "damasR\n",
      "damsRa\n",
      "damsaR\n",
      "daaRms\n",
      "daaRsm\n",
      "daamRs\n",
      "daamsR\n",
      "daasRm\n",
      "daasmR\n",
      "dasRma\n",
      "dasRam\n",
      "dasmRa\n",
      "dasmaR\n",
      "dasaRm\n",
      "dasamR\n",
      "dmRaas\n",
      "dmRasa\n",
      "dmRaas\n",
      "dmRasa\n",
      "dmRsaa\n",
      "dmRsaa\n",
      "dmaRas\n",
      "dmaRsa\n",
      "dmaaRs\n",
      "dmaasR\n",
      "dmasRa\n",
      "dmasaR\n",
      "dmaRas\n",
      "dmaRsa\n",
      "dmaaRs\n",
      "dmaasR\n",
      "dmasRa\n",
      "dmasaR\n",
      "dmsRaa\n",
      "dmsRaa\n",
      "dmsaRa\n",
      "dmsaaR\n",
      "dmsaRa\n",
      "dmsaaR\n",
      "daRams\n",
      "daRasm\n",
      "daRmas\n",
      "daRmsa\n",
      "daRsam\n",
      "daRsma\n",
      "daaRms\n",
      "daaRsm\n",
      "daamRs\n",
      "daamsR\n",
      "daasRm\n",
      "daasmR\n",
      "damRas\n",
      "damRsa\n",
      "damaRs\n",
      "damasR\n",
      "damsRa\n",
      "damsaR\n",
      "dasRam\n",
      "dasRma\n",
      "dasaRm\n",
      "dasamR\n",
      "dasmRa\n",
      "dasmaR\n",
      "dsRama\n",
      "dsRaam\n",
      "dsRmaa\n",
      "dsRmaa\n",
      "dsRaam\n",
      "dsRama\n",
      "dsaRma\n",
      "dsaRam\n",
      "dsamRa\n",
      "dsamaR\n",
      "dsaaRm\n",
      "dsaamR\n",
      "dsmRaa\n",
      "dsmRaa\n",
      "dsmaRa\n",
      "dsmaaR\n",
      "dsmaRa\n",
      "dsmaaR\n",
      "dsaRam\n",
      "dsaRma\n",
      "dsaaRm\n",
      "dsaamR\n",
      "dsamRa\n",
      "dsamaR\n",
      "aRamds\n",
      "aRamsd\n",
      "aRadms\n",
      "aRadsm\n",
      "aRasmd\n",
      "aRasdm\n",
      "aRmads\n",
      "aRmasd\n",
      "aRmdas\n",
      "aRmdsa\n",
      "aRmsad\n",
      "aRmsda\n",
      "aRdams\n",
      "aRdasm\n",
      "aRdmas\n",
      "aRdmsa\n",
      "aRdsam\n",
      "aRdsma\n",
      "aRsamd\n",
      "aRsadm\n",
      "aRsmad\n",
      "aRsmda\n",
      "aRsdam\n",
      "aRsdma\n",
      "aaRmds\n",
      "aaRmsd\n",
      "aaRdms\n",
      "aaRdsm\n",
      "aaRsmd\n",
      "aaRsdm\n",
      "aamRds\n",
      "aamRsd\n",
      "aamdRs\n",
      "aamdsR\n",
      "aamsRd\n",
      "aamsdR\n",
      "aadRms\n",
      "aadRsm\n",
      "aadmRs\n",
      "aadmsR\n",
      "aadsRm\n",
      "aadsmR\n",
      "aasRmd\n",
      "aasRdm\n",
      "aasmRd\n",
      "aasmdR\n",
      "aasdRm\n",
      "aasdmR\n",
      "amRads\n",
      "amRasd\n",
      "amRdas\n",
      "amRdsa\n",
      "amRsad\n",
      "amRsda\n",
      "amaRds\n",
      "amaRsd\n",
      "amadRs\n",
      "amadsR\n",
      "amasRd\n",
      "amasdR\n",
      "amdRas\n",
      "amdRsa\n",
      "amdaRs\n",
      "amdasR\n",
      "amdsRa\n",
      "amdsaR\n",
      "amsRad\n",
      "amsRda\n",
      "amsaRd\n",
      "amsadR\n",
      "amsdRa\n",
      "amsdaR\n",
      "adRams\n",
      "adRasm\n",
      "adRmas\n",
      "adRmsa\n",
      "adRsam\n",
      "adRsma\n",
      "adaRms\n",
      "adaRsm\n",
      "adamRs\n",
      "adamsR\n",
      "adasRm\n",
      "adasmR\n",
      "admRas\n",
      "admRsa\n",
      "admaRs\n",
      "admasR\n",
      "admsRa\n",
      "admsaR\n",
      "adsRam\n",
      "adsRma\n",
      "adsaRm\n",
      "adsamR\n",
      "adsmRa\n",
      "adsmaR\n",
      "asRamd\n",
      "asRadm\n",
      "asRmad\n",
      "asRmda\n",
      "asRdam\n",
      "asRdma\n",
      "asaRmd\n",
      "asaRdm\n",
      "asamRd\n",
      "asamdR\n",
      "asadRm\n",
      "asadmR\n",
      "asmRad\n",
      "asmRda\n",
      "asmaRd\n",
      "asmadR\n",
      "asmdRa\n",
      "asmdaR\n",
      "asdRam\n",
      "asdRma\n",
      "asdaRm\n",
      "asdamR\n",
      "asdmRa\n",
      "asdmaR\n",
      "sRamda\n",
      "sRamad\n",
      "sRadma\n",
      "sRadam\n",
      "sRaamd\n",
      "sRaadm\n",
      "sRmada\n",
      "sRmaad\n",
      "sRmdaa\n",
      "sRmdaa\n",
      "sRmaad\n",
      "sRmada\n",
      "sRdama\n",
      "sRdaam\n",
      "sRdmaa\n",
      "sRdmaa\n",
      "sRdaam\n",
      "sRdama\n",
      "sRaamd\n",
      "sRaadm\n",
      "sRamad\n",
      "sRamda\n",
      "sRadam\n",
      "sRadma\n",
      "saRmda\n",
      "saRmad\n",
      "saRdma\n",
      "saRdam\n",
      "saRamd\n",
      "saRadm\n",
      "samRda\n",
      "samRad\n",
      "samdRa\n",
      "samdaR\n",
      "samaRd\n",
      "samadR\n",
      "sadRma\n",
      "sadRam\n",
      "sadmRa\n",
      "sadmaR\n",
      "sadaRm\n",
      "sadamR\n",
      "saaRmd\n",
      "saaRdm\n",
      "saamRd\n",
      "saamdR\n",
      "saadRm\n",
      "saadmR\n",
      "smRada\n",
      "smRaad\n",
      "smRdaa\n",
      "smRdaa\n",
      "smRaad\n",
      "smRada\n",
      "smaRda\n",
      "smaRad\n",
      "smadRa\n",
      "smadaR\n",
      "smaaRd\n",
      "smaadR\n",
      "smdRaa\n",
      "smdRaa\n",
      "smdaRa\n",
      "smdaaR\n",
      "smdaRa\n",
      "smdaaR\n",
      "smaRad\n",
      "smaRda\n",
      "smaaRd\n",
      "smaadR\n",
      "smadRa\n",
      "smadaR\n",
      "sdRama\n",
      "sdRaam\n",
      "sdRmaa\n",
      "sdRmaa\n",
      "sdRaam\n",
      "sdRama\n",
      "sdaRma\n",
      "sdaRam\n",
      "sdamRa\n",
      "sdamaR\n",
      "sdaaRm\n",
      "sdaamR\n",
      "sdmRaa\n",
      "sdmRaa\n",
      "sdmaRa\n",
      "sdmaaR\n",
      "sdmaRa\n",
      "sdmaaR\n",
      "sdaRam\n",
      "sdaRma\n",
      "sdaaRm\n",
      "sdaamR\n",
      "sdamRa\n",
      "sdamaR\n",
      "saRamd\n",
      "saRadm\n",
      "saRmad\n",
      "saRmda\n",
      "saRdam\n",
      "saRdma\n",
      "saaRmd\n",
      "saaRdm\n",
      "saamRd\n",
      "saamdR\n",
      "saadRm\n",
      "saadmR\n",
      "samRad\n",
      "samRda\n",
      "samaRd\n",
      "samadR\n",
      "samdRa\n",
      "samdaR\n",
      "sadRam\n",
      "sadRma\n",
      "sadaRm\n",
      "sadamR\n",
      "sadmRa\n",
      "sadmaR\n"
     ]
    }
   ],
   "source": [
    "allPermutations(\"Ramdas\")"
   ]
  },
  {
   "cell_type": "markdown",
   "id": "8bb27098",
   "metadata": {},
   "source": [
    "**Q14**. Implement a function to calculate the Fibonacci sequence up to a given number of terms.\n",
    "\n",
    "**Answer**:-"
   ]
  },
  {
   "cell_type": "code",
   "execution_count": 19,
   "id": "cd007084",
   "metadata": {},
   "outputs": [
    {
     "data": {
      "text/plain": [
       "[0, 1, 1, 2, 3, 5, 8, 13, 21, 34]"
      ]
     },
     "execution_count": 19,
     "metadata": {},
     "output_type": "execute_result"
    }
   ],
   "source": [
    "def fibonacci_sequence(n):\n",
    "    sequence = []\n",
    "    a, b = 0, 1\n",
    "    for _ in range(n):\n",
    "        sequence.append(a)\n",
    "        a, b = b, a + b\n",
    "    return sequence\n",
    "\n",
    "fibonacci_sequence(10)"
   ]
  },
  {
   "cell_type": "markdown",
   "id": "0866c2a1",
   "metadata": {},
   "source": [
    "**Q15** Write a program to find the median of a list of numbers.\n",
    "\n",
    "**Answer**:-"
   ]
  },
  {
   "cell_type": "code",
   "execution_count": 20,
   "id": "f2de6cd3",
   "metadata": {},
   "outputs": [
    {
     "name": "stdout",
     "output_type": "stream",
     "text": [
      "The median is: 5.5\n"
     ]
    }
   ],
   "source": [
    "def find_median(numbers):\n",
    "    sorted_numbers = sorted(numbers)\n",
    "    length = len(sorted_numbers)\n",
    "    \n",
    "    if length % 2 == 0:# even length\n",
    "        mid1 = sorted_numbers[length // 2]\n",
    "        mid2 = sorted_numbers[length // 2 - 1]\n",
    "        median = (mid1 + mid2) / 2\n",
    "    else:\n",
    "        median = sorted_numbers[length // 2] # odd length\n",
    "    \n",
    "    return median\n",
    "\n",
    "# Example usage\n",
    "numbers = [5, 2, 9, 1, 7, 6, 3, 8, 4,10]\n",
    "result = find_median(numbers)\n",
    "print(\"The median is:\", result)\n"
   ]
  },
  {
   "cell_type": "markdown",
   "id": "dee3c587",
   "metadata": {},
   "source": [
    "**Q16** Implement a function to check if a given list is sorted in non-decreasing order.\n",
    "\n",
    "**Answer**:-"
   ]
  },
  {
   "cell_type": "code",
   "execution_count": 21,
   "id": "56d9356b",
   "metadata": {},
   "outputs": [],
   "source": [
    "def is_sorted(lst):\n",
    "    for i in range(len(lst) - 1):\n",
    "        if lst[i] > lst[i + 1]:\n",
    "            return False\n",
    "    return True"
   ]
  },
  {
   "cell_type": "code",
   "execution_count": 22,
   "id": "d263364b",
   "metadata": {},
   "outputs": [
    {
     "name": "stdout",
     "output_type": "stream",
     "text": [
      "False\n"
     ]
    }
   ],
   "source": [
    " print(is_sorted([1, 3, 2, 4, 5]))"
   ]
  },
  {
   "cell_type": "markdown",
   "id": "e63e5180",
   "metadata": {},
   "source": [
    "**Q17**. Write a Python program to find the intersection of two lists\n",
    "\n",
    "**Answer**:-"
   ]
  },
  {
   "cell_type": "code",
   "execution_count": 23,
   "id": "59c4302c",
   "metadata": {},
   "outputs": [
    {
     "name": "stdout",
     "output_type": "stream",
     "text": [
      "Intersection of list1 and list2: [4, 5]\n"
     ]
    }
   ],
   "source": [
    "def find_intersection(list1, list2):\n",
    "    intersection = []\n",
    "    for element in list1:\n",
    "        if element in list2:\n",
    "            intersection.append(element)\n",
    "    return intersection\n",
    "\n",
    "# Example usage\n",
    "list1 = [1, 2, 3, 4, 5]\n",
    "list2 = [4, 5, 6, 7, 8]\n",
    "result = find_intersection(list1, list2)\n",
    "print(\"Intersection of list1 and list2:\", result)\n"
   ]
  },
  {
   "cell_type": "markdown",
   "id": "39a50a83",
   "metadata": {},
   "source": [
    "**Q18**. Implement a function to find the maximum subarray sum in a given list.\n",
    "\n",
    "**Answer**:-"
   ]
  },
  {
   "cell_type": "code",
   "execution_count": 24,
   "id": "2a6d94f3",
   "metadata": {},
   "outputs": [
    {
     "name": "stdout",
     "output_type": "stream",
     "text": [
      "13\n"
     ]
    }
   ],
   "source": [
    "def find_max_subarray_sum(arr):\n",
    "    max_sum = float('-inf')\n",
    "    current_sum = 0\n",
    "    \n",
    "    for num in arr:\n",
    "        current_sum = max(num, current_sum + num)\n",
    "        max_sum = max(max_sum, current_sum)\n",
    "    \n",
    "    return max_sum\n",
    "\n",
    "arr = [-2, 1, -3, 4, 6, 2, 1, -5, 4]\n",
    "max_subarray_sum = find_max_subarray_sum(arr)\n",
    "print(max_subarray_sum)"
   ]
  },
  {
   "cell_type": "code",
   "execution_count": 25,
   "id": "2c4c398d",
   "metadata": {},
   "outputs": [],
   "source": [
    "# float('-inf')"
   ]
  },
  {
   "cell_type": "markdown",
   "id": "aaf81d15",
   "metadata": {},
   "source": [
    "**Q19**. Write a program to remove all vowels from a given string.\n",
    "\n",
    "**Answer**:-"
   ]
  },
  {
   "cell_type": "code",
   "execution_count": 26,
   "id": "8fd39d0b",
   "metadata": {},
   "outputs": [
    {
     "name": "stdout",
     "output_type": "stream",
     "text": [
      "Hll, nrn!\n"
     ]
    }
   ],
   "source": [
    "def remove_vowels(string):\n",
    "    vowels = ['a', 'e', 'i', 'o', 'u', 'A', 'E', 'I', 'O', 'U']\n",
    "    result = \"\"\n",
    "    for char in string:\n",
    "        if char not in vowels:\n",
    "            result += char\n",
    "    return result\n",
    "\n",
    "# Example usage\n",
    "input_string = \"Hello, ineuron!\"\n",
    "output_string = remove_vowels(input_string)\n",
    "print(output_string)\n"
   ]
  },
  {
   "cell_type": "markdown",
   "id": "ae5ff5d2",
   "metadata": {},
   "source": [
    "**Q20**. Implement a function to reverse the order of words in a given sentence.\n",
    "\n",
    "**Answer**:-"
   ]
  },
  {
   "cell_type": "code",
   "execution_count": 27,
   "id": "940787b8",
   "metadata": {},
   "outputs": [],
   "source": [
    "def reverse_sentence(sentence):\n",
    "    words = sentence.split()\n",
    "    reversed_words = words[::-1]\n",
    "    reversed_sentence = ' '.join(reversed_words)\n",
    "    return reversed_sentence"
   ]
  },
  {
   "cell_type": "code",
   "execution_count": 28,
   "id": "e158776c",
   "metadata": {},
   "outputs": [
    {
     "name": "stdout",
     "output_type": "stream",
     "text": [
      "? you are how Hello\n"
     ]
    }
   ],
   "source": [
    "sentence = \"Hello how are you ?\"\n",
    "reversed_sentence = reverse_sentence(sentence)\n",
    "print(reversed_sentence)"
   ]
  },
  {
   "cell_type": "markdown",
   "id": "14982d4c",
   "metadata": {},
   "source": [
    "**Q21**. Write a Python program to check if two strings are anagrams of each other.\n",
    "\n",
    "**Answer**:-"
   ]
  },
  {
   "cell_type": "code",
   "execution_count": 29,
   "id": "f35ebb9a",
   "metadata": {},
   "outputs": [
    {
     "name": "stdout",
     "output_type": "stream",
     "text": [
      "Enter the first string: levels\n",
      "Enter the second string: slevel\n",
      "The strings are anagrams.\n"
     ]
    }
   ],
   "source": [
    "def check_anagram(str1, str2):\n",
    "    # Convert both strings to lowercase\n",
    "    str1 = str1.lower()\n",
    "    str2 = str2.lower()\n",
    "\n",
    "    # Remove spaces from both strings\n",
    "    str1 = str1.replace(\" \", \"\")\n",
    "    str2 = str2.replace(\" \", \"\")\n",
    "\n",
    "    # Sort the characters in both strings\n",
    "    sorted_str1 = sorted(str1)\n",
    "    sorted_str2 = sorted(str2)\n",
    "\n",
    "    # Check if the sorted strings are equal\n",
    "    if sorted_str1 == sorted_str2:\n",
    "        return True\n",
    "    else:\n",
    "        return False\n",
    "\n",
    "# Test the function\n",
    "string1 = input(\"Enter the first string: \")\n",
    "string2 = input(\"Enter the second string: \")\n",
    "\n",
    "if check_anagram(string1, string2):\n",
    "    print(\"The strings are anagrams.\")\n",
    "else:\n",
    "    print(\"The strings are not anagrams.\")\n"
   ]
  },
  {
   "cell_type": "markdown",
   "id": "32c64db4",
   "metadata": {},
   "source": [
    "**Q22** Implement a function to find the first non-repeating character in a string.\n",
    "\n",
    "**Answer**:-"
   ]
  },
  {
   "cell_type": "code",
   "execution_count": 30,
   "id": "52cb33ad",
   "metadata": {},
   "outputs": [
    {
     "name": "stdout",
     "output_type": "stream",
     "text": [
      "First non-repeating character: h\n"
     ]
    }
   ],
   "source": [
    "def find_first_non_repeating_char(string):\n",
    "    char_count = {}\n",
    "    \n",
    "    # Count the occurrences of each character in the string\n",
    "    for char in string:\n",
    "        if char in char_count:\n",
    "            char_count[char] += 1\n",
    "        else:\n",
    "            char_count[char] = 1\n",
    "    \n",
    "    # Find the first non-repeating character\n",
    "    for char in string:\n",
    "        if char_count[char] == 1:\n",
    "            return char\n",
    "    \n",
    "    # If no non-repeating character is found, return None\n",
    "    return None\n",
    "\n",
    "# Example usage\n",
    "string = \"hello world\"\n",
    "result = find_first_non_repeating_char(string)\n",
    "print(\"First non-repeating character:\", result)\n"
   ]
  },
  {
   "cell_type": "markdown",
   "id": "61bf10de",
   "metadata": {},
   "source": [
    "**Q23**. Write a program to find the prime factors of a given number.\n",
    "\n",
    "**Answer**:--"
   ]
  },
  {
   "cell_type": "code",
   "execution_count": 31,
   "id": "66e04511",
   "metadata": {},
   "outputs": [
    {
     "name": "stdout",
     "output_type": "stream",
     "text": [
      "3,3,5,7,"
     ]
    }
   ],
   "source": [
    "# Python program to print prime factors og given number\n",
    "\n",
    "import math\n",
    "\n",
    "\n",
    "def primeFactors(n):\n",
    "# Print the number of two's that divide n\n",
    "    while n % 2 == 0:\n",
    "        print( 2)\n",
    "        n = n / 2\n",
    "\n",
    "    # n must be odd at this point\n",
    "    # so a skip of 2 ( i = i + 2) can be used\n",
    "    for i in range(3,int(math.sqrt(n))+1,2):\n",
    "    #while i divides n , print i and divide n\n",
    "        while n % i== 0:\n",
    "            print( i,end=\",\")\n",
    "            n = n / i\n",
    "\n",
    "    # Condition if n is a prime\n",
    "    # number greater than 2\n",
    "    if n > 2:\n",
    "        print (n)\n",
    "\n",
    "# Driver Program to test above function\n",
    "\n",
    "n = 315\n",
    "primeFactors(n)"
   ]
  },
  {
   "cell_type": "markdown",
   "id": "88ac4f5b",
   "metadata": {},
   "source": [
    "**Q24** Implement a function to check if a given number is a power of two.\n",
    "\n",
    "**Answqer**:-"
   ]
  },
  {
   "cell_type": "code",
   "execution_count": 32,
   "id": "31a639bc",
   "metadata": {},
   "outputs": [],
   "source": [
    "def is_power_of_two(num):\n",
    "    if num <= 0:\n",
    "        return False\n",
    "    else:\n",
    "        return num & (num - 1) == 0\n"
   ]
  },
  {
   "cell_type": "code",
   "execution_count": 34,
   "id": "75a60683",
   "metadata": {},
   "outputs": [
    {
     "data": {
      "text/plain": [
       "(False, True)"
      ]
     },
     "execution_count": 34,
     "metadata": {},
     "output_type": "execute_result"
    }
   ],
   "source": [
    "is_power_of_two(20),is_power_of_two(64)"
   ]
  },
  {
   "cell_type": "markdown",
   "id": "52c80594",
   "metadata": {},
   "source": [
    "**Q25** Write a Python program to merge two sorted lists into a single sorted list.\n",
    "\n",
    "**Answer**:- "
   ]
  },
  {
   "cell_type": "code",
   "execution_count": 35,
   "id": "b32f01f1",
   "metadata": {},
   "outputs": [
    {
     "name": "stdout",
     "output_type": "stream",
     "text": [
      "[10, 10, 20, 30, 30, 50, 60]\n"
     ]
    }
   ],
   "source": [
    "def merge_sorted_lists(list1, list2):\n",
    "    merged_list = []\n",
    "    i = 0\n",
    "    j = 0\n",
    "\n",
    "    while i < len(list1) and j < len(list2):\n",
    "        if list1[i] < list2[j]:\n",
    "            merged_list.append(list1[i])\n",
    "            i += 1\n",
    "        else:\n",
    "            merged_list.append(list2[j])\n",
    "            j += 1\n",
    "\n",
    "    while i < len(list1):\n",
    "        merged_list.append(list1[i])\n",
    "        i += 1\n",
    "\n",
    "    while j < len(list2):\n",
    "        merged_list.append(list2[j])\n",
    "        j += 1\n",
    "\n",
    "    return merged_list\n",
    "\n",
    "# Example usage\n",
    "list1 = [10,20,30]\n",
    "list2 = [10,30,50,60]\n",
    "merged_list = merge_sorted_lists(list1, list2)\n",
    "print(merged_list)\n"
   ]
  },
  {
   "cell_type": "markdown",
   "id": "c9d021eb",
   "metadata": {},
   "source": [
    "**Q26** Implement a function to find the mode of a list of numbers.\n",
    "\n",
    "**Answer**:-"
   ]
  },
  {
   "cell_type": "code",
   "execution_count": 36,
   "id": "8405578a",
   "metadata": {},
   "outputs": [],
   "source": [
    "def find_mode(numbers):\n",
    "    count_dict = {}\n",
    "    for num in numbers:\n",
    "        if num in count_dict:\n",
    "            count_dict[num] += 1\n",
    "        else:\n",
    "            count_dict[num] = 1\n",
    "    \n",
    "    max_count = max(count_dict.values())\n",
    "    mode = [num for num, count in count_dict.items() if count == max_count]\n",
    "    \n",
    "    return mode\n"
   ]
  },
  {
   "cell_type": "code",
   "execution_count": 37,
   "id": "4c932bc0",
   "metadata": {},
   "outputs": [
    {
     "data": {
      "text/plain": [
       "[1]"
      ]
     },
     "execution_count": 37,
     "metadata": {},
     "output_type": "execute_result"
    }
   ],
   "source": [
    "find_mode([12,10,20,21,3,1,63,4,2,1,2,1,5,52,5,5,1])"
   ]
  },
  {
   "cell_type": "markdown",
   "id": "3f7fc8f7",
   "metadata": {},
   "source": [
    "**Q27**. Write a program to find the greatest common divisor (GCD) of two numbers.\n",
    "\n",
    "**Answer**:-"
   ]
  },
  {
   "cell_type": "code",
   "execution_count": 40,
   "id": "3f89f021",
   "metadata": {},
   "outputs": [
    {
     "name": "stdout",
     "output_type": "stream",
     "text": [
      "Enter the first number: 20\n",
      "Enter the second number: 30\n",
      "The GCD of 20 and 30 is 10\n"
     ]
    }
   ],
   "source": [
    "def gcd(a, b):\n",
    "    while b != 0:\n",
    "        temp = b\n",
    "        b = a % b\n",
    "        a = temp\n",
    "    return a\n",
    "\n",
    "num1 = int(input(\"Enter the first number: \"))\n",
    "num2 = int(input(\"Enter the second number: \"))\n",
    "\n",
    "result = gcd(num1, num2)\n",
    "\n",
    "print(\"The GCD of\", num1, \"and\", num2, \"is\", result)\n"
   ]
  },
  {
   "cell_type": "markdown",
   "id": "035101da",
   "metadata": {},
   "source": [
    "**Q28**. Implement a function to calculate the square root of a given number.\n",
    "\n",
    "**Answer**:-"
   ]
  },
  {
   "cell_type": "code",
   "execution_count": 41,
   "id": "33ea791a",
   "metadata": {},
   "outputs": [],
   "source": [
    "import math\n",
    "\n",
    "def calculate_square_root(number):\n",
    "    return math.sqrt(number)"
   ]
  },
  {
   "cell_type": "code",
   "execution_count": 42,
   "id": "4d4eac84",
   "metadata": {},
   "outputs": [
    {
     "data": {
      "text/plain": [
       "4.47213595499958"
      ]
     },
     "execution_count": 42,
     "metadata": {},
     "output_type": "execute_result"
    }
   ],
   "source": [
    "calculate_square_root(20)"
   ]
  },
  {
   "cell_type": "markdown",
   "id": "2beee994",
   "metadata": {},
   "source": [
    "**Q29**. Write a Python program to check if a given string is a valid palindrome ignoring non-alphanumeric characters.\n",
    "\n",
    "**Answer**:-"
   ]
  },
  {
   "cell_type": "code",
   "execution_count": 43,
   "id": "b662466b",
   "metadata": {},
   "outputs": [
    {
     "name": "stdout",
     "output_type": "stream",
     "text": [
      "Enter a string: Level\n",
      "The string is a valid palindrome.\n"
     ]
    }
   ],
   "source": [
    "def is_valid_palindrome(string):\n",
    "    # Remove non-alphanumeric characters from the string\n",
    "    alphanumeric_string = ''.join(char.lower() for char in string if char.isalnum())\n",
    "    \n",
    "    # Check if the alphanumeric string is equal to its reverse\n",
    "    return alphanumeric_string == alphanumeric_string[::-1]\n",
    "\n",
    "# Test the function\n",
    "input_string = input(\"Enter a string: \")\n",
    "if is_valid_palindrome(input_string):\n",
    "    print(\"The string is a valid palindrome.\")\n",
    "else:\n",
    "    print(\"The string is not a valid palindrome.\")"
   ]
  },
  {
   "cell_type": "markdown",
   "id": "9d4f1866",
   "metadata": {},
   "source": [
    "**Q30**. Implement a function to find the minimum element in a rotated sorted list.\n",
    "\n",
    "**Answer**:-"
   ]
  },
  {
   "cell_type": "code",
   "execution_count": 44,
   "id": "db61fc78",
   "metadata": {},
   "outputs": [],
   "source": [
    "def find_minimum(nums):\n",
    "    left = 0\n",
    "    right = len(nums) - 1\n",
    "    \n",
    "    while left < right:\n",
    "        mid = left + (right - left) // 2\n",
    "        \n",
    "        if nums[mid] > nums[right]:\n",
    "            left = mid + 1\n",
    "        else:\n",
    "            right = mid\n",
    "    \n",
    "    return nums[left]"
   ]
  },
  {
   "cell_type": "code",
   "execution_count": 45,
   "id": "98406e8c",
   "metadata": {},
   "outputs": [
    {
     "data": {
      "text/plain": [
       "5"
      ]
     },
     "execution_count": 45,
     "metadata": {},
     "output_type": "execute_result"
    }
   ],
   "source": [
    "find_minimum([10,5,6,8,97,20])"
   ]
  },
  {
   "cell_type": "markdown",
   "id": "1cc952aa",
   "metadata": {},
   "source": [
    "**Q31**. Write a program to find the sum of all even numbers in a list.\n",
    "\n",
    "**Answer**:-"
   ]
  },
  {
   "cell_type": "code",
   "execution_count": 46,
   "id": "9ce8aad2",
   "metadata": {},
   "outputs": [
    {
     "name": "stdout",
     "output_type": "stream",
     "text": [
      "Sum of even numbers: 30\n"
     ]
    }
   ],
   "source": [
    "def sum_of_even_numbers(numbers):\n",
    "    even_sum = 0\n",
    "    for num in numbers:\n",
    "        if num % 2 == 0:\n",
    "            even_sum += num\n",
    "    return even_sum\n",
    "\n",
    "# Example usage\n",
    "numbers_list = [1, 2, 3, 4, 5, 6, 7, 8, 9, 10]\n",
    "result = sum_of_even_numbers(numbers_list)\n",
    "print(\"Sum of even numbers:\", result)"
   ]
  },
  {
   "cell_type": "markdown",
   "id": "a04d0f76",
   "metadata": {},
   "source": [
    "**Q31**. Write a program to find the sum of all even numbers in a list.\n",
    "\n",
    "**Answer**:-"
   ]
  },
  {
   "cell_type": "code",
   "execution_count": 47,
   "id": "050ba029",
   "metadata": {},
   "outputs": [
    {
     "name": "stdout",
     "output_type": "stream",
     "text": [
      "Sum of even numbers: 30\n"
     ]
    }
   ],
   "source": [
    "def sum_of_even_numbers(numbers):\n",
    "    sum = 0\n",
    "    for num in numbers:\n",
    "        if num % 2 == 0:\n",
    "            sum += num\n",
    "    return sum\n",
    "\n",
    "# Example usage\n",
    "numbers = [1, 2, 3, 4, 5, 6, 7, 8, 9, 10]\n",
    "result = sum_of_even_numbers(numbers)\n",
    "print(\"Sum of even numbers:\", result)"
   ]
  },
  {
   "cell_type": "markdown",
   "id": "9ac44e91",
   "metadata": {},
   "source": [
    "**Q32**. Implement a function to calculate the power of a number using recursion\n",
    "\n",
    "**Answer**:-"
   ]
  },
  {
   "cell_type": "code",
   "execution_count": 48,
   "id": "1b70eedd",
   "metadata": {},
   "outputs": [],
   "source": [
    "def power(base, exponent):\n",
    "    if exponent == 0:\n",
    "        return 1\n",
    "    elif exponent < 0:\n",
    "        return 1 / power(base, -exponent)\n",
    "    else:\n",
    "        return base * power(base, exponent - 1)"
   ]
  },
  {
   "cell_type": "code",
   "execution_count": 49,
   "id": "2afe456b",
   "metadata": {},
   "outputs": [
    {
     "data": {
      "text/plain": [
       "8"
      ]
     },
     "execution_count": 49,
     "metadata": {},
     "output_type": "execute_result"
    }
   ],
   "source": [
    "power(2,3)"
   ]
  },
  {
   "cell_type": "markdown",
   "id": "c9d25fc7",
   "metadata": {},
   "source": [
    "**Q33**. Write a Python program to remove duplicates from a list while preserving the order.\n",
    "\n",
    "**Answer**:-"
   ]
  },
  {
   "cell_type": "code",
   "execution_count": 50,
   "id": "0589b862",
   "metadata": {},
   "outputs": [
    {
     "name": "stdout",
     "output_type": "stream",
     "text": [
      "[1, 2, 6, 4, 3, 5]\n"
     ]
    }
   ],
   "source": [
    "def remove_duplicates(lst):\n",
    "    unique_lst = []\n",
    "    for item in lst:\n",
    "        if item not in unique_lst:\n",
    "            unique_lst.append(item)\n",
    "    return unique_lst\n",
    "\n",
    "# Test the function\n",
    "input_list = [1, 2, 6, 2, 4, 3, 5, 6, 4]\n",
    "output_list = remove_duplicates(input_list)\n",
    "print(output_list)"
   ]
  },
  {
   "cell_type": "markdown",
   "id": "e94296c2",
   "metadata": {},
   "source": [
    "**Q34**. Implement a function to find the longest common prefix among a list of strings\n",
    "\n",
    "**Answer**:-"
   ]
  },
  {
   "cell_type": "code",
   "execution_count": 51,
   "id": "87cebc44",
   "metadata": {},
   "outputs": [],
   "source": [
    "def longest_common_prefix(strings):\n",
    "    if not strings:\n",
    "        return \"\"\n",
    "    \n",
    "    prefix = strings[0]\n",
    "    \n",
    "    for string in strings[1:]:\n",
    "        while string[:len(prefix)] != prefix:\n",
    "            prefix = prefix[:-1]\n",
    "            if not prefix:\n",
    "                return \"\"\n",
    "    \n",
    "    return prefix\n"
   ]
  },
  {
   "cell_type": "code",
   "execution_count": 52,
   "id": "09cec499",
   "metadata": {},
   "outputs": [
    {
     "name": "stdout",
     "output_type": "stream",
     "text": [
      "app\n"
     ]
    }
   ],
   "source": [
    "strings3 = [\"apple\", \"application\", \"app\"]\n",
    "print(longest_common_prefix(strings3))"
   ]
  },
  {
   "cell_type": "markdown",
   "id": "feba62ca",
   "metadata": {},
   "source": [
    "**Q35**. Write a program to check if a given number is a perfect square.\n",
    "\n",
    "**Answer**:-"
   ]
  },
  {
   "cell_type": "code",
   "execution_count": 53,
   "id": "98a9215b",
   "metadata": {},
   "outputs": [
    {
     "name": "stdout",
     "output_type": "stream",
     "text": [
      "64 is a perfect square\n"
     ]
    }
   ],
   "source": [
    "def is_perfect_square(num):\n",
    "    if num < 0:\n",
    "        return False\n",
    "    elif num == 0:\n",
    "        return True\n",
    "    else:\n",
    "        i = 1\n",
    "        while i * i <= num:\n",
    "            if i * i == num:\n",
    "                return True\n",
    "            i += 1\n",
    "        return False\n",
    "\n",
    "# Example usage\n",
    "number = 64\n",
    "if is_perfect_square(number):\n",
    "    print(f\"{number} is a perfect square\")\n",
    "else:\n",
    "    print(f\"{number} is not a perfect square\")"
   ]
  },
  {
   "cell_type": "markdown",
   "id": "68a6dcf0",
   "metadata": {},
   "source": [
    "**Q36**. Implement a function to calculate the product of all elements in a list.\n",
    "\n",
    "**Answer**:-"
   ]
  },
  {
   "cell_type": "code",
   "execution_count": 54,
   "id": "096ad04d",
   "metadata": {},
   "outputs": [],
   "source": [
    "def calculate_product(lst):\n",
    "    product = 1\n",
    "    for num in lst:\n",
    "        product *= num\n",
    "    return product\n"
   ]
  },
  {
   "cell_type": "code",
   "execution_count": 55,
   "id": "ae62c2f0",
   "metadata": {},
   "outputs": [
    {
     "data": {
      "text/plain": [
       "4800"
      ]
     },
     "execution_count": 55,
     "metadata": {},
     "output_type": "execute_result"
    }
   ],
   "source": [
    "calculate_product([12,20,10,2])"
   ]
  },
  {
   "cell_type": "markdown",
   "id": "ebed9f44",
   "metadata": {},
   "source": [
    "**Q37**. Write a Python program to reverse the order of words in a sentence while preserving the word order.\n",
    "\n",
    "**Answer**:-"
   ]
  },
  {
   "cell_type": "code",
   "execution_count": 56,
   "id": "baf41de3",
   "metadata": {},
   "outputs": [
    {
     "name": "stdout",
     "output_type": "stream",
     "text": [
      "you? are how , Sir Hello\n"
     ]
    }
   ],
   "source": [
    "def reverse_sentence(sentence):\n",
    "    words = sentence.split()\n",
    "    reversed_words = words[::-1]\n",
    "    reversed_sentence = ' '.join(reversed_words)\n",
    "    return reversed_sentence\n",
    "\n",
    "# Example usage\n",
    "input_sentence = \"Hello Sir , how are you?\"\n",
    "reversed_sentence = reverse_sentence(input_sentence)\n",
    "print(reversed_sentence)\n"
   ]
  },
  {
   "cell_type": "markdown",
   "id": "bb22f845",
   "metadata": {},
   "source": [
    "**Q38**. Implement a function to find the missing number in a given list of consecutive numbers.\n",
    "\n",
    "**Answer**:-"
   ]
  },
  {
   "cell_type": "code",
   "execution_count": 57,
   "id": "4bfda613",
   "metadata": {},
   "outputs": [],
   "source": [
    "def find_missing_number(numbers):\n",
    "    n = len(numbers) + 1\n",
    "    total_sum = (n * (n + 1)) // 2\n",
    "    actual_sum = sum(numbers)\n",
    "    missing_number = total_sum - actual_sum\n",
    "    return missing_number"
   ]
  },
  {
   "cell_type": "code",
   "execution_count": 58,
   "id": "2dc26ad4",
   "metadata": {},
   "outputs": [
    {
     "name": "stdout",
     "output_type": "stream",
     "text": [
      "4\n"
     ]
    }
   ],
   "source": [
    "numbers = [1, 2, 3, 5, 6, 7, 8, 9, 10]\n",
    "missing_number = find_missing_number(numbers)\n",
    "print(missing_number)"
   ]
  },
  {
   "cell_type": "markdown",
   "id": "7080c274",
   "metadata": {},
   "source": [
    "**Q39**. Write a program to find the sum of digits of a given number.\n",
    "\n",
    "**Answer**:-"
   ]
  },
  {
   "cell_type": "code",
   "execution_count": 59,
   "id": "065e77d6",
   "metadata": {},
   "outputs": [
    {
     "name": "stdout",
     "output_type": "stream",
     "text": [
      "Enter a number: 12326456\n",
      "The sum of digits of 12326456 is 29\n"
     ]
    }
   ],
   "source": [
    "# Function to find the sum of digits\n",
    "def sum_of_digits(number):\n",
    "    # Initialize sum variable\n",
    "    sum = 0\n",
    "    \n",
    "    # Iterate through each digit of the number\n",
    "    while number > 0:\n",
    "        # Get the last digit of the number\n",
    "        digit = number % 10\n",
    "        \n",
    "        # Add the digit to the sum\n",
    "        sum += digit\n",
    "        \n",
    "        # Remove the last digit from the number\n",
    "        number = number // 10\n",
    "    \n",
    "    # Return the sum of digits\n",
    "    return sum\n",
    "\n",
    "# Get the input number from the user\n",
    "number = int(input(\"Enter a number: \"))\n",
    "\n",
    "# Call the function to find the sum of digits\n",
    "result = sum_of_digits(number)\n",
    "\n",
    "# Print the result\n",
    "print(\"The sum of digits of\", number, \"is\", result)\n"
   ]
  },
  {
   "cell_type": "markdown",
   "id": "4870795c",
   "metadata": {},
   "source": [
    "**Q40**. Implement a function to check if a given string is a valid palindrome considering case sensitivity.\n",
    "\n",
    "**Answer**"
   ]
  },
  {
   "cell_type": "code",
   "execution_count": 60,
   "id": "e7733ba9",
   "metadata": {},
   "outputs": [],
   "source": [
    "def is_valid_palindrome(s: str) -> bool:\n",
    "    # Remove non-alphanumeric characters and convert to lowercase\n",
    "    s = ''.join(ch.lower() for ch in s if ch.isalnum())\n",
    "    \n",
    "    # Check if the string is equal to its reverse\n",
    "    return s == s[::-1]\n"
   ]
  },
  {
   "cell_type": "code",
   "execution_count": 61,
   "id": "91491209",
   "metadata": {},
   "outputs": [
    {
     "data": {
      "text/plain": [
       "True"
      ]
     },
     "execution_count": 61,
     "metadata": {},
     "output_type": "execute_result"
    }
   ],
   "source": [
    "is_valid_palindrome('Level')"
   ]
  },
  {
   "cell_type": "markdown",
   "id": "95c23de9",
   "metadata": {},
   "source": [
    "**Q41**. Write a Python program to find the smallest missing positive integer in a list.\n",
    "\n",
    "**Answer**:-"
   ]
  },
  {
   "cell_type": "code",
   "execution_count": 62,
   "id": "6f41a30f",
   "metadata": {},
   "outputs": [
    {
     "name": "stdout",
     "output_type": "stream",
     "text": [
      "2\n"
     ]
    }
   ],
   "source": [
    "def find_smallest_missing_positive(nums):\n",
    "    n = len(nums)\n",
    "    \n",
    "    # Step 1: Move all non-positive numbers to the left side of the list\n",
    "    j = 0\n",
    "    for i in range(n):\n",
    "        if nums[i] <= 0:\n",
    "            nums[i], nums[j] = nums[j], nums[i]\n",
    "            j += 1\n",
    "    \n",
    "    # Step 2: Mark the presence of positive numbers by changing the sign of corresponding indices\n",
    "    for i in range(j, n):\n",
    "        num = abs(nums[i])\n",
    "        if num <= n - j:\n",
    "            nums[j + num - 1] = -abs(nums[j + num - 1])\n",
    "    \n",
    "    # Step 3: Find the first positive number and return its index (+1)\n",
    "    for i in range(j, n):\n",
    "        if nums[i] > 0:\n",
    "            return i - j + 1\n",
    "    \n",
    "    # Step 4: If all positive numbers are present, return the next positive number\n",
    "    return n - j + 1\n",
    "\n",
    "# Test the function\n",
    "nums = [3, 4, -1, 1]\n",
    "result = find_smallest_missing_positive(nums)\n",
    "print(result)"
   ]
  },
  {
   "cell_type": "markdown",
   "id": "cb84a1f4",
   "metadata": {},
   "source": [
    "**Q42**. Implement a function to find the longest palindrome substring in a given string.\n",
    "\n",
    "**Answer**:-"
   ]
  },
  {
   "cell_type": "code",
   "execution_count": 63,
   "id": "7d215d9f",
   "metadata": {},
   "outputs": [],
   "source": [
    "def longest_palindrome(s):\n",
    "    n = len(s)\n",
    "    if n < 2:\n",
    "        return s\n",
    "    \n",
    "    start = 0\n",
    "    max_len = 1\n",
    "    \n",
    "    for i in range(n):\n",
    "        # Check for odd length palindromes\n",
    "        left = i - 1\n",
    "        right = i + 1\n",
    "        while left >= 0 and right < n and s[left] == s[right]:\n",
    "            if right - left + 1 > max_len:\n",
    "                start = left\n",
    "                max_len = right - left + 1\n",
    "            left -= 1\n",
    "            right += 1\n",
    "        \n",
    "        # Check for even length palindromes\n",
    "        left = i\n",
    "        right = i + 1\n",
    "        while left >= 0 and right < n and s[left] == s[right]:\n",
    "            if right - left + 1 > max_len:\n",
    "                start = left\n",
    "                max_len = right - left + 1\n",
    "            left -= 1\n",
    "            right += 1\n",
    "    \n",
    "    return s[start:start+max_len]\n"
   ]
  },
  {
   "cell_type": "code",
   "execution_count": 64,
   "id": "3cdf6f15",
   "metadata": {},
   "outputs": [
    {
     "name": "stdout",
     "output_type": "stream",
     "text": [
      "jdj\n"
     ]
    }
   ],
   "source": [
    "s = \"ramddasramddfjdj\"\n",
    "print(longest_palindrome(s))"
   ]
  },
  {
   "cell_type": "markdown",
   "id": "bf7ab35b",
   "metadata": {},
   "source": [
    "**Q43**. Write a program to find the number of occurrences of a given element in a list.\n",
    "\n",
    "**Answer**:-"
   ]
  },
  {
   "cell_type": "code",
   "execution_count": 65,
   "id": "d4b36fbc",
   "metadata": {},
   "outputs": [
    {
     "name": "stdout",
     "output_type": "stream",
     "text": [
      "The element 2 appears 4 times in the list.\n"
     ]
    }
   ],
   "source": [
    "def count_occurrences(lst, element):\n",
    "    count = 0\n",
    "    for item in lst:\n",
    "        if item == element:\n",
    "            count += 1\n",
    "    return count\n",
    "\n",
    "# Example usage\n",
    "my_list = [1, 2, 3, 4, 2, 2, 5, 6, 2]\n",
    "my_element = 2\n",
    "occurrences = count_occurrences(my_list, my_element)\n",
    "print(f\"The element {my_element} appears {occurrences} times in the list.\")\n"
   ]
  },
  {
   "cell_type": "markdown",
   "id": "29699027",
   "metadata": {},
   "source": [
    "**Q44**. Implement a function to check if a given number is a perfect number.\n",
    "\n",
    "**Answer**:-"
   ]
  },
  {
   "cell_type": "code",
   "execution_count": 66,
   "id": "ede293c8",
   "metadata": {},
   "outputs": [
    {
     "name": "stdout",
     "output_type": "stream",
     "text": [
      "20 is not a perfect number.\n"
     ]
    }
   ],
   "source": [
    "def is_perfect_number(num):\n",
    "    divisors = []\n",
    "    for i in range(1, num):\n",
    "        if num % i == 0:\n",
    "            divisors.append(i)\n",
    "    if sum(divisors) == num:\n",
    "        return True\n",
    "    else:\n",
    "        return False\n",
    "    \n",
    "    \n",
    "#Test the function    \n",
    "num =20\n",
    "if is_perfect_number(num):\n",
    "    print(f\"{num} is a perfect number.\")\n",
    "else:\n",
    "    print(f\"{num} is not a perfect number.\")"
   ]
  },
  {
   "cell_type": "markdown",
   "id": "224b0c69",
   "metadata": {},
   "source": [
    "**Q45**. Write a Python program to remove all duplicates from a string.\n",
    "\n",
    "**Answer**:-"
   ]
  },
  {
   "cell_type": "code",
   "execution_count": 67,
   "id": "46b58736",
   "metadata": {},
   "outputs": [
    {
     "name": "stdout",
     "output_type": "stream",
     "text": [
      "Helo, SirwaYu\n"
     ]
    }
   ],
   "source": [
    "def remove_duplicates(string):\n",
    "    \n",
    "    unique_chars = set()\n",
    "    \n",
    "    # Create an empty string to store the result\n",
    "    result = \"\"\n",
    "    \n",
    "    # Iterate through each character in the string\n",
    "    for char in string:\n",
    "        # Check if the character is already in the set\n",
    "        if char not in unique_chars:\n",
    "            # If not, add it to the set and append it to the result string\n",
    "            unique_chars.add(char)\n",
    "            result += char\n",
    "    \n",
    "    return result\n",
    "\n",
    "# Test the function\n",
    "input_string = \"Hello, Sir How are You\"\n",
    "output_string = remove_duplicates(input_string)\n",
    "print(output_string)\n"
   ]
  },
  {
   "cell_type": "markdown",
   "id": "8482277f",
   "metadata": {},
   "source": [
    "**Q46**. Implement a function to find the first missing positive\n",
    "\n",
    "**Answer**:-"
   ]
  },
  {
   "cell_type": "code",
   "execution_count": 68,
   "id": "41de5b3b",
   "metadata": {},
   "outputs": [],
   "source": [
    "def find_missing_positive(nums):\n",
    "    # Step 1: Remove negative numbers and zeros\n",
    "    nums = [num for num in nums if num > 0]\n",
    "\n",
    "    # Step 2: Mark visited numbers\n",
    "    for i in range(len(nums)):\n",
    "        num = abs(nums[i])\n",
    "        if num <= len(nums):\n",
    "            nums[num - 1] = -abs(nums[num - 1])\n",
    "\n",
    "    # Step 3: Find the first missing positive number\n",
    "    for i in range(len(nums)):\n",
    "        if nums[i] > 0:\n",
    "            return i + 1\n",
    "\n",
    "    # Step 4: If all positive numbers are present, return the next positive number\n",
    "    return len(nums) + 1\n"
   ]
  },
  {
   "cell_type": "code",
   "execution_count": 69,
   "id": "e7194218",
   "metadata": {},
   "outputs": [
    {
     "name": "stdout",
     "output_type": "stream",
     "text": [
      "2\n"
     ]
    }
   ],
   "source": [
    "nums = [3, 4, -1, 1]\n",
    "missing_positive = find_missing_positive(nums)\n",
    "print(missing_positive)\n"
   ]
  }
 ],
 "metadata": {
  "kernelspec": {
   "display_name": "Python 3 (ipykernel)",
   "language": "python",
   "name": "python3"
  },
  "language_info": {
   "codemirror_mode": {
    "name": "ipython",
    "version": 3
   },
   "file_extension": ".py",
   "mimetype": "text/x-python",
   "name": "python",
   "nbconvert_exporter": "python",
   "pygments_lexer": "ipython3",
   "version": "3.9.7"
  }
 },
 "nbformat": 4,
 "nbformat_minor": 5
}
