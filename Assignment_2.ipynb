{
 "cells": [
  {
   "cell_type": "markdown",
   "id": "b15a9e21",
   "metadata": {},
   "source": [
    "1. Scenario:\n",
    "\n",
    "A company wants to analyze the sales performance of its products in different regions. They have collected the following data:\n",
    "\n",
    "   Region A: [10, 15, 12, 8, 14]\n",
    "   \n",
    "   Region B: [18, 20, 16, 22, 25]\n",
    "   \n",
    "   Calculate the mean sales for each region."
   ]
  },
  {
   "cell_type": "code",
   "execution_count": null,
   "id": "256e09d4",
   "metadata": {},
   "outputs": [],
   "source": [
    "# Sales data for Region A\n",
    "region_a_sales = [10, 15, 12, 8, 14]\n",
    "\n",
    "# Sales data for Region B\n",
    "region_b_sales = [18, 20, 16, 22, 25]\n",
    "\n",
    "# Calculate the mean sales for Region A\n",
    "region_a_mean = sum(region_a_sales) / len(region_a_sales)\n",
    "print(f\"The mean sales for Region A is: {region_a_mean}\")\n",
    "\n",
    "# Calculate the mean sales for Region B\n",
    "region_b_mean = sum(region_b_sales) / len(region_b_sales)\n",
    "print(f\"The mean sales for Region B is: {region_b_mean}\")"
   ]
  },
  {
   "cell_type": "markdown",
   "id": "a032cbf3",
   "metadata": {},
   "source": [
    "2. Scenario: A survey is conducted to measure customer satisfaction on a scale of 1 to 5. The data collected is as follows:\n",
    "        \n",
    "   [4, 5, 2, 3, 5, 4, 3, 2, 4, 5]\n",
    "\n",
    "   Calculate the mode of the survey responses."
   ]
  },
  {
   "cell_type": "code",
   "execution_count": 7,
   "id": "eceb044f",
   "metadata": {},
   "outputs": [
    {
     "name": "stdout",
     "output_type": "stream",
     "text": [
      "Counter({4: 3, 5: 3, 2: 2, 3: 2})\n",
      "dict_items([(4, 3), (5, 3), (2, 2), (3, 2)])\n",
      "dict_values([3, 3, 2, 2])\n",
      "3\n",
      "The mode(s) of the survey responses is/are: [4, 5]\n"
     ]
    }
   ],
   "source": [
    "from collections import Counter\n",
    "\n",
    "survey_responses = [4, 5, 2, 3, 5, 4, 3, 2, 4, 5]\n",
    "\n",
    "# Count the occurrences of each response\n",
    "response_counts = Counter(survey_responses)\n",
    "print(response_counts)\n",
    "print(response_counts.items())\n",
    "print(response_counts.values())\n",
    "count=max(response_counts.values())\n",
    "print(count)\n",
    "\n",
    "# Find the mode(s) of the survey responses\n",
    "modes = [response for response, count in response_counts.items() if count == max(response_counts.values())]\n",
    "\n",
    "# Print the mode(s)\n",
    "print(\"The mode(s) of the survey responses is/are:\", modes)\n"
   ]
  },
  {
   "cell_type": "markdown",
   "id": "1e530aa4",
   "metadata": {},
   "source": [
    "3. Scenario: A company wants to compare the salaries of two departments. The salary data for Department A and Department B are as follows:\n",
    "        \n",
    "   Department A: [5000, 6000, 5500, 7000]\n",
    "    \n",
    "   Department B: [4500, 5500, 5800, 6000, 5200]\n",
    "    \n",
    "   Calculate the median salary for each department.\n"
   ]
  },
  {
   "cell_type": "code",
   "execution_count": 24,
   "id": "55c40d6c",
   "metadata": {},
   "outputs": [
    {
     "name": "stdout",
     "output_type": "stream",
     "text": [
      "2.0\n",
      "2.5\n",
      "Median salary for Department A: 5750.0\n",
      "Median salary for Department B: 5500\n"
     ]
    }
   ],
   "source": [
    "# Salary data for Department A and Department B\n",
    "department_a_salaries = [5000, 6000, 5500, 7000]\n",
    "department_b_salaries = [4500, 5500, 5800, 6000, 5200]\n",
    "\n",
    "\n",
    "sorted_a_salary = sorted(department_a_salaries)\n",
    "sorted_b_salary = sorted(department_b_salaries)\n",
    "\n",
    "len(department_a_salaries)\n",
    "\n",
    "len(department_b_salaries)\n",
    "\n",
    "index_location_a = 50/100*len(department_a_salaries)\n",
    "print(index_location_a)\n",
    "\n",
    "index_location_b = 50/100*len(department_b_salaries)\n",
    "print(index_location_b)\n",
    "\n",
    "Median_salary_forDepartment_A=(sorted_a_salary[1]+sorted_a_salary[2])/2\n",
    "\n",
    "Median_salary_forDepartment_B=(sorted_b_salary[2])\n",
    "\n",
    "\n",
    "# Print the median salaries for each department\n",
    "print(\"Median salary for Department A:\", Median_salary_forDepartment_A)\n",
    "print(\"Median salary for Department B:\", Median_salary_forDepartment_B)\n"
   ]
  },
  {
   "cell_type": "code",
   "execution_count": 25,
   "id": "74f3eebc",
   "metadata": {},
   "outputs": [
    {
     "name": "stdout",
     "output_type": "stream",
     "text": [
      "Median salary for Department A: 6000\n",
      "Median salary for Department B: 5500\n"
     ]
    }
   ],
   "source": [
    "# Salary data for Department A and Department B\n",
    "department_a = [5000, 6000, 5500, 7000]\n",
    "department_b = [4500, 5500, 5800, 6000, 5200]\n",
    "\n",
    "# Calculate the median salary for Department A\n",
    "median_a = sorted(department_a)[len(department_a) // 2]\n",
    "print(\"Median salary for Department A:\", median_a)\n",
    "\n",
    "# Calculate the median salary for Department B\n",
    "median_b = sorted(department_b)[len(department_b) // 2]\n",
    "print(\"Median salary for Department B:\", median_b)\n"
   ]
  },
  {
   "cell_type": "code",
   "execution_count": null,
   "id": "b84f638b",
   "metadata": {},
   "outputs": [],
   "source": []
  },
  {
   "cell_type": "code",
   "execution_count": null,
   "id": "b18071a6",
   "metadata": {},
   "outputs": [],
   "source": []
  },
  {
   "cell_type": "code",
   "execution_count": null,
   "id": "1f1985ff",
   "metadata": {},
   "outputs": [],
   "source": []
  },
  {
   "cell_type": "code",
   "execution_count": null,
   "id": "e33c03c2",
   "metadata": {},
   "outputs": [],
   "source": []
  },
  {
   "cell_type": "code",
   "execution_count": null,
   "id": "ea4bf615",
   "metadata": {},
   "outputs": [],
   "source": []
  },
  {
   "cell_type": "code",
   "execution_count": null,
   "id": "7520cb21",
   "metadata": {},
   "outputs": [],
   "source": []
  },
  {
   "cell_type": "code",
   "execution_count": null,
   "id": "0bfe5e2a",
   "metadata": {},
   "outputs": [],
   "source": []
  },
  {
   "cell_type": "code",
   "execution_count": null,
   "id": "63279670",
   "metadata": {},
   "outputs": [],
   "source": []
  },
  {
   "cell_type": "code",
   "execution_count": null,
   "id": "a8061be8",
   "metadata": {},
   "outputs": [],
   "source": []
  },
  {
   "cell_type": "code",
   "execution_count": null,
   "id": "72ea9a94",
   "metadata": {},
   "outputs": [],
   "source": []
  },
  {
   "cell_type": "code",
   "execution_count": null,
   "id": "50cb89c8",
   "metadata": {},
   "outputs": [],
   "source": []
  },
  {
   "cell_type": "code",
   "execution_count": null,
   "id": "ebe61424",
   "metadata": {},
   "outputs": [],
   "source": []
  },
  {
   "cell_type": "code",
   "execution_count": null,
   "id": "e5ab2ccb",
   "metadata": {},
   "outputs": [],
   "source": []
  }
 ],
 "metadata": {
  "kernelspec": {
   "display_name": "Python 3 (ipykernel)",
   "language": "python",
   "name": "python3"
  },
  "language_info": {
   "codemirror_mode": {
    "name": "ipython",
    "version": 3
   },
   "file_extension": ".py",
   "mimetype": "text/x-python",
   "name": "python",
   "nbconvert_exporter": "python",
   "pygments_lexer": "ipython3",
   "version": "3.9.7"
  }
 },
 "nbformat": 4,
 "nbformat_minor": 5
}
