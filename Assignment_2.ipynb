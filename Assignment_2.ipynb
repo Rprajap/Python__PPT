{
 "cells": [
  {
   "cell_type": "markdown",
   "id": "b15a9e21",
   "metadata": {},
   "source": [
    "1. Scenario:\n",
    "\n",
    "A company wants to analyze the sales performance of its products in different regions. They have collected the following data:\n",
    "\n",
    "   Region A: [10, 15, 12, 8, 14]\n",
    "   \n",
    "   Region B: [18, 20, 16, 22, 25]\n",
    "   \n",
    "   Calculate the mean sales for each region."
   ]
  },
  {
   "cell_type": "code",
   "execution_count": 1,
   "id": "256e09d4",
   "metadata": {},
   "outputs": [
    {
     "name": "stdout",
     "output_type": "stream",
     "text": [
      "The mean sales for Region A is: 11.8\n",
      "The mean sales for Region B is: 20.2\n"
     ]
    }
   ],
   "source": [
    "import numpy as np\n",
    "# Sales data for Region A\n",
    "region_a_sales = [10, 15, 12, 8, 14]\n",
    "\n",
    "# Sales data for Region B\n",
    "region_b_sales = [18, 20, 16, 22, 25]\n",
    "\n",
    "# Calculate the mean sales for Region A\n",
    "region_a_mean =np.mean(region_a_sales) #sum(region_a_sales) / len(region_a_sales)\n",
    "print(f\"The mean sales for Region A is: {region_a_mean}\")\n",
    "\n",
    "# Calculate the mean sales for Region B\n",
    "region_b_mean = np.mean(region_b_sales) #sum(region_b_sales) / len(region_b_sales)\n",
    "print(f\"The mean sales for Region B is: {region_b_mean}\")"
   ]
  },
  {
   "cell_type": "markdown",
   "id": "a032cbf3",
   "metadata": {},
   "source": [
    "2. Scenario: A survey is conducted to measure customer satisfaction on a scale of 1 to 5. The data collected is as follows:\n",
    "        \n",
    "   [4, 5, 2, 3, 5, 4, 3, 2, 4, 5]\n",
    "\n",
    "   Calculate the mode of the survey responses."
   ]
  },
  {
   "cell_type": "code",
   "execution_count": 2,
   "id": "eceb044f",
   "metadata": {},
   "outputs": [
    {
     "name": "stdout",
     "output_type": "stream",
     "text": [
      "The mode(s) of the survey responses is/are: 4\n"
     ]
    }
   ],
   "source": [
    "import statistics\n",
    "modes=statistics.mode([4, 5, 2, 3, 5, 4, 3, 2, 4, 5])\n",
    "# Print the mode(s)\n",
    "print(\"The mode(s) of the survey responses is/are:\", modes)\n"
   ]
  },
  {
   "cell_type": "markdown",
   "id": "1e530aa4",
   "metadata": {},
   "source": [
    "3. Scenario: A company wants to compare the salaries of two departments. The salary data for Department A and Department B are as follows:\n",
    "        \n",
    "   Department A: [5000, 6000, 5500, 7000]\n",
    "    \n",
    "   Department B: [4500, 5500, 5800, 6000, 5200]\n",
    "    \n",
    "   Calculate the median salary for each department.\n"
   ]
  },
  {
   "cell_type": "code",
   "execution_count": 3,
   "id": "55c40d6c",
   "metadata": {},
   "outputs": [
    {
     "name": "stdout",
     "output_type": "stream",
     "text": [
      "Median salary for Department A: 5750.0\n",
      "Median salary for Department B: 5500.0\n"
     ]
    }
   ],
   "source": [
    "# Salary data for Department A and Department B\n",
    "import numpy as np\n",
    "department_a_salaries = [5000, 6000, 5500, 7000]\n",
    "department_b_salaries = [4500, 5500, 5800, 6000, 5200]\n",
    "\n",
    "\n",
    "Median_salary_forDepartment_A = np.median(department_a_salaries)\n",
    "Median_salary_forDepartment_B = np.median(department_b_salaries)\n",
    "\n",
    "\n",
    "# Print the median salaries for each department\n",
    "print(\"Median salary for Department A:\", Median_salary_forDepartment_A)\n",
    "print(\"Median salary for Department B:\", Median_salary_forDepartment_B)\n"
   ]
  },
  {
   "cell_type": "markdown",
   "id": "92d7367f",
   "metadata": {},
   "source": [
    "4. Scenario: A data analyst wants to determine the variability in the daily stock prices of a company. The data collected is as follows:\n",
    "   [25.5, 24.8, 26.1, 25.3, 24.9]\n",
    "   Calculate the range of the stock prices"
   ]
  },
  {
   "cell_type": "code",
   "execution_count": 4,
   "id": "b18071a6",
   "metadata": {},
   "outputs": [
    {
     "name": "stdout",
     "output_type": "stream",
     "text": [
      "The range of the stock prices is  1.3000000000000007\n"
     ]
    }
   ],
   "source": [
    "import numpy as np\n",
    "data = [25.5, 24.8, 26.1, 25.3, 24.9]\n",
    "minimum=np.min(data)\n",
    "maximum=np.max(data)\n",
    "range_data=maximum-minimum\n",
    "print(\"The range of the stock prices is \",range_data)"
   ]
  },
  {
   "cell_type": "markdown",
   "id": "68d0f1ab",
   "metadata": {},
   "source": [
    "5. Scenario: A study is conducted to compare the performance of two different teaching methods. The test scores of the students in each group are as follows:\n",
    "   Group A: [85, 90, 92, 88, 91]\n",
    "   Group B: [82, 88, 90, 86, 87]\n",
    "   Perform a t-test to determine if there is a significant difference in the mean scores between the two groups."
   ]
  },
  {
   "cell_type": "code",
   "execution_count": 5,
   "id": "e33c03c2",
   "metadata": {},
   "outputs": [
    {
     "name": "stdout",
     "output_type": "stream",
     "text": [
      "T-Statistic: 1.4312528946642733\n",
      "P-Value: 0.19023970239078333\n"
     ]
    }
   ],
   "source": [
    "import scipy.stats as stats\n",
    "\n",
    "# Test scores of Group A\n",
    "group_a = [85, 90, 92, 88, 91]\n",
    "\n",
    "# Test scores of Group B\n",
    "group_b = [82, 88, 90, 86, 87]\n",
    "\n",
    "'''Hypothesis: h0:mean_group_a is equal to mean_group_b\n",
    "            h1:mean_group_a not equal to mean_group_b\n",
    "    '''\n",
    "# l.o.s=0.05 assumed or any hypothetical value\n",
    "\n",
    "# Perform t-test statics / UNEQUAL VARIANCE\n",
    "\n",
    "t_statistic, p_value = stats.ttest_ind(group_a, group_b)\n",
    "\n",
    "# Print the results\n",
    "print(\"T-Statistic:\", t_statistic)\n",
    "print(\"P-Value:\", p_value)\n",
    "\n",
    "# here p value is hreater than l.o.s.  hence we reject null hypothesis. "
   ]
  },
  {
   "cell_type": "markdown",
   "id": "d132034e",
   "metadata": {},
   "source": [
    "6. Scenario: A company wants to analyze the relationship between advertising expenditure and sales. The data collected is as follows:\n",
    "   Advertising Expenditure (in thousands): [10, 15, 12, 8, 14]\n",
    "   Sales (in thousands): [25, 30, 28, 20, 26]\n",
    "   Calculate the correlation coefficient between advertising expenditure \n"
   ]
  },
  {
   "cell_type": "code",
   "execution_count": 6,
   "id": "7520cb21",
   "metadata": {},
   "outputs": [
    {
     "name": "stdout",
     "output_type": "stream",
     "text": [
      "The correlation coefficient between advertising expenditure & Sales is :  0.8757511375750132\n"
     ]
    }
   ],
   "source": [
    "import numpy  as np\n",
    "Expenditure = [10, 15, 12, 8, 14]\n",
    "Sales =  [25, 30, 28, 20, 26]\n",
    "\n",
    "correlation_coefficient= np.corrcoef(Expenditure,Sales)[0,1]\n",
    "\n",
    "print(\"The correlation coefficient between advertising expenditure & Sales is : \",correlation_coefficient)"
   ]
  },
  {
   "cell_type": "markdown",
   "id": "b2f8b5f4",
   "metadata": {},
   "source": [
    "7. Scenario: A survey is conducted to measure the heights of a group of people. The data collected is as follows:\n",
    "   [160, 170, 165, 155, 175, 180, 170]\n",
    "   Calculate the standard deviation of the heights."
   ]
  },
  {
   "cell_type": "code",
   "execution_count": 7,
   "id": "63279670",
   "metadata": {},
   "outputs": [
    {
     "name": "stdout",
     "output_type": "stream",
     "text": [
      "The standard deviation of the heights is  7.953949089757174\n"
     ]
    }
   ],
   "source": [
    "import numpy as np\n",
    "heights = [160, 170, 165, 155, 175, 180, 170]\n",
    "standard_deviation_height=np.std(heights)\n",
    "\n",
    "print(\"The standard deviation of the heights is \",standard_deviation_height)"
   ]
  },
  {
   "cell_type": "markdown",
   "id": "a98f6ea8",
   "metadata": {},
   "source": [
    "8. Scenario: A company wants to analyze the relationship between employee tenure and job satisfaction. The data collected is as follows:\n",
    "   Employee Tenure (in years): [2, 3, 5, 4, 6, 2, 4]\n",
    "   Job Satisfaction (on a scale of 1 to 10): [7, 8, 6, 9, 5, 7, 6]\n",
    "   Perform a linear regression analysis to predict job satisfaction based on employee tenure.\n"
   ]
  },
  {
   "cell_type": "code",
   "execution_count": 9,
   "id": "72ea9a94",
   "metadata": {},
   "outputs": [
    {
     "name": "stdout",
     "output_type": "stream",
     "text": [
      "Predicted job satisfaction: [6.25531915]\n"
     ]
    }
   ],
   "source": [
    "import numpy as np\n",
    "from sklearn.linear_model import LinearRegression\n",
    "\n",
    "# Employee Tenure (in years)\n",
    "tenure = np.array([2, 3, 5, 4, 6, 2, 4]).reshape(-1, 1)\n",
    "\n",
    "# Job Satisfaction (on a scale of 1 to 10)\n",
    "satisfaction = np.array([7, 8, 6, 9, 5, 7, 6])\n",
    "\n",
    "# Create a linear regression model\n",
    "model = LinearRegression()\n",
    "\n",
    "# Fit the model to the data\n",
    "model.fit(tenure, satisfaction)\n",
    "\n",
    "# Predict job satisfaction for a new employee with 3 years of tenure\n",
    "new_tenure = np.array([5]).reshape(-1, 1)\n",
    "predicted_satisfaction = model.predict(new_tenure)\n",
    "\n",
    "print(\"Predicted job satisfaction:\", predicted_satisfaction)\n"
   ]
  },
  {
   "cell_type": "markdown",
   "id": "c5f8532a",
   "metadata": {},
   "source": [
    "9. Scenario: A study is conducted to compare the effectiveness of two different medications. The recovery times of the patients in each group are as follows:\n",
    "   Medication A: [10, 12, 14, 11, 13]\n",
    "   Medication B: [15, 17, 16, 14, 18]\n",
    "   Perform an analysis of variance (ANOVA) to determine if there is a significant difference in the mean recovery times between the two medications."
   ]
  },
  {
   "cell_type": "code",
   "execution_count": 10,
   "id": "ebe61424",
   "metadata": {},
   "outputs": [
    {
     "name": "stdout",
     "output_type": "stream",
     "text": [
      "F_onewayResult(statistic=16.0, pvalue=0.003949772803445326)\n",
      "There is a significant difference in the mean recovery times between Medication A and Medication B.\n"
     ]
    }
   ],
   "source": [
    "import scipy.stats as stats\n",
    "\n",
    "# Recovery times of patients in Medication A\n",
    "medication_a = [10, 12, 14, 11, 13]\n",
    "\n",
    "# Recovery times of patients in Medication B\n",
    "medication_b = [15, 17, 16, 14, 18]\n",
    "\n",
    "# Perform an analysis of variance (ANOVA)\n",
    "result = stats.f_oneway(medication_a, medication_b)\n",
    "print(result)\n",
    "\n",
    "# Print the result\n",
    "if result.pvalue < 0.05:\n",
    "    print(\"There is a significant difference in the mean recovery times between Medication A and Medication B.\")\n",
    "else:\n",
    "    print(\"There is no significant difference in the mean recovery times between Medication A and Medication B.\")\n"
   ]
  },
  {
   "cell_type": "markdown",
   "id": "3ee2f284",
   "metadata": {},
   "source": [
    "10. Scenario: A company wants to analyze customer feedback ratings on a scale of 1 to 10. The data collected is\n",
    "\n",
    " as follows:\n",
    "    [8, 9, 7, 6, 8, 10, 9, 8, 7, 8]\n",
    "    Calculate the 75th percentile of the feedback ratings.\n"
   ]
  },
  {
   "cell_type": "code",
   "execution_count": 12,
   "id": "8aa44744",
   "metadata": {},
   "outputs": [
    {
     "name": "stdout",
     "output_type": "stream",
     "text": [
      "The 75th percentile of the feedback ratings is  [8.75]\n"
     ]
    }
   ],
   "source": [
    "\n",
    "import numpy as np\n",
    "\n",
    "feedback_ratings = [8, 9, 7, 6, 8, 10, 9, 8, 7, 8]\n",
    "\n",
    "precentile_75 = np.percentile(feedback_ratings,[75])\n",
    "\n",
    "print(\"The 75th percentile of the feedback ratings is \",precentile_75)"
   ]
  },
  {
   "cell_type": "markdown",
   "id": "18f32fb9",
   "metadata": {},
   "source": [
    "11. Scenario: A quality control department wants to test the weight consistency of a product. The weights of a sample of products are as follows:\n",
    "    [10.2, 9.8, 10.0, 10.5, 10.3, 10.1]\n",
    "    Perform a hypothesis test to determine if the mean weight differs significantly from 10 grams.\n"
   ]
  },
  {
   "cell_type": "code",
   "execution_count": 14,
   "id": "abf096eb",
   "metadata": {},
   "outputs": [
    {
     "name": "stdout",
     "output_type": "stream",
     "text": [
      "T-statistic: 1.5126584522688367\n",
      "P-value: 0.19077595151110102\n",
      "F_onewayResult(statistic=16.0, pvalue=0.003949772803445326)\n",
      "There is a significant difference in the mean weight of product from 10 grams.\n"
     ]
    }
   ],
   "source": [
    "import numpy as np\n",
    "from scipy import stats\n",
    "\n",
    "# Sample weights\n",
    "weights = np.array([10.2, 9.8, 10.0, 10.5, 10.3, 10.1])\n",
    "\n",
    "\n",
    "# Hypothesis\n",
    "'''h0:  weights=10\n",
    "h1: Not h0'''\n",
    "\n",
    "# Hypothesis test\n",
    "t_stat, p_value = stats.ttest_1samp(weights, 10)\n",
    "\n",
    "# Print results\n",
    "print(\"T-statistic:\", t_stat)\n",
    "print(\"P-value:\", p_value)\n",
    "\n",
    "\n",
    "import scipy.stats as stats\n",
    "\n",
    "# Recovery times of patients in Medication A\n",
    "medication_a = [10, 12, 14, 11, 13]\n",
    "\n",
    "# Recovery times of patients in Medication B\n",
    "medication_b = [15, 17, 16, 14, 18]\n",
    "\n",
    "# Perform an analysis of variance (ANOVA)\n",
    "result = stats.f_oneway(medication_a, medication_b)\n",
    "print(result)\n",
    "\n",
    "# Print the result\n",
    "\n",
    "if result.pvalue < 0.05:\n",
    "    print(\"There is a significant difference in the mean weight of product from 10 grams.\")\n",
    "else:\n",
    "    print(\"There is no significant difference in the the mean weight  weight of product from 10 grams\")\n"
   ]
  },
  {
   "cell_type": "markdown",
   "id": "a80dccd0",
   "metadata": {},
   "source": [
    "12. Scenario: A company wants to analyze the click-through rates of two different website designs. The number of clicks for each design is as follows:\n",
    "    Design A: [100, 120, 110, 90, 95]\n",
    "    Design B: [80, 85, 90, 95, 100]\n",
    "    Perform a chi-square test to determine if there is a significant difference in the click-through rates between the two designs."
   ]
  },
  {
   "cell_type": "code",
   "execution_count": 15,
   "id": "a1cae0f8",
   "metadata": {},
   "outputs": [
    {
     "name": "stdout",
     "output_type": "stream",
     "text": [
      "Chi-square statistic: 6.110658166925435\n",
      "P-value: 0.19103526314060296\n",
      "There is no significant difference in the  the click-through rates between the two designs\n"
     ]
    }
   ],
   "source": [
    "import numpy as np\n",
    "from scipy.stats import chi2_contingency\n",
    "\n",
    "# Click-through rates for Design A and Design B\n",
    "design_a = [100, 120, 110, 90, 95]\n",
    "design_b = [80, 85, 90, 95, 100]\n",
    "\n",
    "# Creating a contingency table\n",
    "contingency_table = np.array([design_a, design_b])\n",
    "\n",
    "# Performing the chi-square test\n",
    "#chi2, p_value, _, _ = chi2_contingency(contingency_table)\n",
    "result = chi2_contingency(contingency_table)\n",
    "\n",
    "#print(result.statistic)\n",
    "#print(result.pvalue)\n",
    "\n",
    "# Printing the results\n",
    "print(f\"Chi-square statistic: {result.statistic}\")\n",
    "print(f\"P-value: {result.pvalue}\")\n",
    "\n",
    "\n",
    "# assumed\n",
    "los=0.05 \n",
    "\n",
    "# Print the result\n",
    "\n",
    "if result.pvalue < los:\n",
    "    print(\"There is a significant difference in  the click-through rates between the two designs.\")\n",
    "else:\n",
    "    print(\"There is no significant difference in the  the click-through rates between the two designs\")\n"
   ]
  },
  {
   "cell_type": "code",
   "execution_count": null,
   "id": "e57eb481",
   "metadata": {},
   "outputs": [],
   "source": [
    "13. Scenario: A survey is conducted to measure customer satisfaction with a product on a scale of 1 to 10. The data collected is as follows:\n",
    "    [7, 9, 6, 8, 10, 7, 8, 9, 7, 8]\n",
    "    Calculate the 95% confidence interval for the population mean satisfaction score."
   ]
  },
  {
   "cell_type": "code",
   "execution_count": 16,
   "id": "0f88ebcd",
   "metadata": {},
   "outputs": [
    {
     "name": "stdout",
     "output_type": "stream",
     "text": [
      "7.9\n",
      "1.1972189997378646\n",
      "The standard error of customer satisfaction is  0.3785938897200182\n",
      "The margin of error of customer satisfaction is  0.8564388794001122\n",
      "95% Confidence Interval for Population Mean Satisfaction Score:\n",
      "(7.043561120599888, 8.756438879400113)\n"
     ]
    }
   ],
   "source": [
    "import numpy as np\n",
    "from scipy import stats\n",
    "\n",
    "# Survey data\n",
    "data = [7, 9, 6, 8, 10, 7, 8, 9, 7, 8]\n",
    "\n",
    "# Calculate sample mean and standard deviation\n",
    "sample_mean = np.mean(data)\n",
    "sample_std = np.std(data, ddof=1) #ddof parameter set to 1 to calculate the unbiased estimator . s/n-1\n",
    "print(sample_mean)\n",
    "print(sample_std)\n",
    "\n",
    "# Calculate the standard error\n",
    "standard_error = sample_std / np.sqrt(len(data))\n",
    "print(\"The standard error of customer satisfaction is \",standard_error)\n",
    "\n",
    "# Calculate the margin of error\n",
    "margin_of_error = stats.t.ppf(0.975, df=len(data)-1) * standard_error\n",
    "print(\"The margin of error of customer satisfaction is \",margin_of_error)\n",
    "\n",
    "# Calculate the confidence interval\n",
    "confidence_interval = (sample_mean - margin_of_error, sample_mean + margin_of_error)\n",
    "\n",
    "# Print the confidence interval\n",
    "print(\"95% Confidence Interval for Population Mean Satisfaction Score:\")\n",
    "print(confidence_interval)\n"
   ]
  },
  {
   "cell_type": "markdown",
   "id": "9049fb93",
   "metadata": {},
   "source": [
    "14. Scenario: A company wants to analyze the effect of temperature on product performance. The data collected is as follows:\n",
    "    Temperature (in degrees Celsius): [20, 22, 23, 19, 21]\n",
    "    Performance (on a scale of 1 to 10): [8, 7, 9, 6, 8]\n",
    "    Perform a simple linear regression to predict performance based on temperature"
   ]
  },
  {
   "cell_type": "code",
   "execution_count": 17,
   "id": "da5884aa",
   "metadata": {},
   "outputs": [
    {
     "name": "stdout",
     "output_type": "stream",
     "text": [
      "Predicted performance of product over new temperature  is : [9.6]\n"
     ]
    }
   ],
   "source": [
    "import numpy as np\n",
    "from sklearn.linear_model import LinearRegression\n",
    "\n",
    "# Temperature on product \n",
    "Temperature = np.array([20, 22, 23, 19, 21]).reshape(-1, 1) # explanatory variable\n",
    "\n",
    "# Performance (on a scale of 1 to 10)\n",
    "performance= np.array([8, 7, 9, 6, 8]) # dependent variable\n",
    "\n",
    "# Create a linear regression model\n",
    "model = LinearRegression()\n",
    "\n",
    "# Fit the model to the data\n",
    "model.fit(Temperature, performance)\n",
    "\n",
    "# Predict \n",
    "new_temp = np.array([25]).reshape(-1, 1)\n",
    "predicted_performance = model.predict(new_temp)\n",
    "\n",
    "print(\"Predicted performance of product over new temperature  is :\", predicted_performance)\n",
    "\n"
   ]
  },
  {
   "cell_type": "markdown",
   "id": "aaf50732",
   "metadata": {},
   "source": [
    "15. Scenario: A study is conducted to compare the preferences of two groups of participants. The preferences are measured on a Likert scale from 1 to 5. The data collected is as follows:\n",
    "    Group A: [4, 3, 5, 2, 4]\n",
    "    Group B: [3, 2, 4, 3, 3]\n",
    "    Perform a Mann-Whitney U test to determine if there is a significant difference in the median preferences between the two groups."
   ]
  },
  {
   "cell_type": "code",
   "execution_count": 18,
   "id": "5316eb98",
   "metadata": {},
   "outputs": [
    {
     "name": "stdout",
     "output_type": "stream",
     "text": [
      "MannwhitneyuResult(statistic=17.0, pvalue=0.380836480306712)\n",
      "Mann-Whitney U statistic: 17.0\n",
      "p-value: 0.380836480306712\n",
      "There is no significant difference in the  median performance between two groups\n"
     ]
    }
   ],
   "source": [
    "import scipy.stats as stats\n",
    "\n",
    "# Data for Group A and Group B\n",
    "group_a = [4, 3, 5, 2, 4]\n",
    "group_b = [3, 2, 4, 3, 3]\n",
    "\n",
    "# Perform Mann-Whitney U test\n",
    "# statistic, p_value = stats.mannwhitneyu(group_a, group_b)\n",
    "result = stats.mannwhitneyu(group_a, group_b)\n",
    "print(result)\n",
    "statistic=result.statistic\n",
    "p_value=result.pvalue\n",
    "\n",
    "# Print the test statistic and p-value\n",
    "print(\"Mann-Whitney U statistic:\", statistic)\n",
    "print(\"p-value:\", p_value)\n",
    "\n",
    "# assumed\n",
    "los=0.05 \n",
    "\n",
    "# Print the result\n",
    "\n",
    "if result.pvalue < los:\n",
    "    print(\"There is a significant difference in the  median performance between two groups \")\n",
    "else:\n",
    "    print(\"There is no significant difference in the  median performance between two groups\")\n",
    "\n"
   ]
  },
  {
   "cell_type": "markdown",
   "id": "aee9dff8",
   "metadata": {},
   "source": [
    "\n",
    "16. Scenario: A company wants to analyze the distribution of customer ages. The data collected is as follows:\n",
    "    [25, 30, 35, 40, 45, 50, 55, 60, 65, 70]\n",
    "    Calculate the interquartile range (IQR) of the ages."
   ]
  },
  {
   "cell_type": "code",
   "execution_count": null,
   "id": "e4fe56ff",
   "metadata": {},
   "outputs": [],
   "source": [
    "import numpy\n",
    "age = [25, 30, 35, 40, 45, 50, 55, 60, 65, 70]\n",
    "Q1,Q3=np.percentile(age,[25,75])\n",
    "print(Q1),print(Q3)\n",
    "IQR= Q3-Q1\n",
    "print(\"The interquartile range (IQR) of the ages \",IQR)"
   ]
  },
  {
   "cell_type": "markdown",
   "id": "4d59dbf6",
   "metadata": {},
   "source": [
    "\n",
    "17. Scenario: A study is conducted to compare the performance of three different machine learning algorithms. The accuracy scores for each algorithm are as follows:\n",
    "    Algorithm A: [0.85, 0.80, 0.82, 0.87, 0.83]\n",
    "    Algorithm B: [0.78, 0.82, 0.84, 0.80, 0.79]\n",
    "    Algorithm C: [0.90, 0.88, 0.89, 0.86, 0.87]\n",
    "    Perform a Kruskal-Wallis test to determine if there is a significant difference in the median accuracy scores between the algorithms."
   ]
  },
  {
   "cell_type": "code",
   "execution_count": 19,
   "id": "5d59374a",
   "metadata": {},
   "outputs": [
    {
     "name": "stdout",
     "output_type": "stream",
     "text": [
      "Kruskal-Wallis Test\n",
      "Test Statistic: 9.696947935368053\n",
      "p-value: 0.007840333026249539\n",
      "There is a significant difference in the  median performance between two groups \n"
     ]
    }
   ],
   "source": [
    "import scipy.stats as stats\n",
    "\n",
    "# Accuracy scores for each algorithm\n",
    "algorithm_a = [0.85, 0.80, 0.82, 0.87, 0.83]\n",
    "algorithm_b = [0.78, 0.82, 0.84, 0.80, 0.79]\n",
    "algorithm_c = [0.90, 0.88, 0.89, 0.86, 0.87]\n",
    "\n",
    "# Perform Kruskal-Wallis test\n",
    "statistic, p_value = stats.kruskal(algorithm_a, algorithm_b, algorithm_c)\n",
    "\n",
    "# Print the test statistic and p-value\n",
    "print(\"Kruskal-Wallis Test\")\n",
    "print(\"Test Statistic:\", statistic)\n",
    "print(\"p-value:\", p_value)\n",
    "\n",
    "\n",
    "# assumed\n",
    "los=0.05 \n",
    "\n",
    "# Print the result\n",
    "\n",
    "if p_value < los:\n",
    "    print(\"There is a significant difference in the  median performance between two groups \")\n",
    "else:\n",
    "    print(\"There is no significant difference in the  median performance between two groups\")\n"
   ]
  },
  {
   "cell_type": "markdown",
   "id": "c36c624e",
   "metadata": {},
   "source": [
    "18. Scenario: A company wants to analyze the effect of price on sales. The data collected is as follows:\n",
    "    Price (in dollars): [10, 15, 12, 8, 14]\n",
    "    Sales: [100, 80, 90, 110, 95]\n",
    "    Perform a simple linear regression to predict\n",
    "\n",
    "    sales based on price.\n"
   ]
  },
  {
   "cell_type": "code",
   "execution_count": 20,
   "id": "6804d311",
   "metadata": {},
   "outputs": [
    {
     "name": "stdout",
     "output_type": "stream",
     "text": [
      "Predicted sales: [90.79268293]\n"
     ]
    }
   ],
   "source": [
    "import numpy as np\n",
    "from sklearn.linear_model import LinearRegression\n",
    "\n",
    "# Data\n",
    "price = np.array([10, 15, 12, 8, 14]).reshape(-1, 1) # explanatory\n",
    "sales = np.array([100, 80, 90, 110, 95])# dependent\n",
    "\n",
    "# Create and fit the linear regression model\n",
    "model = LinearRegression() # model object\n",
    "model.fit(price, sales)# fitting data to model\n",
    "\n",
    "# Predict sales for a given price\n",
    "price_to_predict = np.array([13]).reshape(-1, 1) # new data\n",
    "predicted_sales = model.predict(price_to_predict)# predicted sales for new data\n",
    "\n",
    "print(\"Predicted sales:\", predicted_sales)\n"
   ]
  },
  {
   "cell_type": "markdown",
   "id": "d9129cad",
   "metadata": {},
   "source": [
    "19. Scenario: A survey is conducted to measure the satisfaction levels of customers with a new product. The data collected is as follows:\n",
    "    [7, 8, 9, 6, 8, 7, 9, 7, 8, 7]\n",
    "    Calculate the standard error of the mean satisfaction score."
   ]
  },
  {
   "cell_type": "code",
   "execution_count": 21,
   "id": "d095d57c",
   "metadata": {},
   "outputs": [
    {
     "name": "stdout",
     "output_type": "stream",
     "text": [
      "The standard error of the mean satisfaction score is: 0.30550504633038933\n"
     ]
    }
   ],
   "source": [
    "import statistics\n",
    "import numpy as np \n",
    "\n",
    "# Data collected from the survey\n",
    "satisfaction_scores = [7, 8, 9, 6, 8, 7, 9, 7, 8, 7]\n",
    "\n",
    "# Calculating the standard error of the mean\n",
    "\n",
    "standard_error = statistics.stdev(satisfaction_scores) /np.sqrt(len(satisfaction_scores))\n",
    "\n",
    "# statistics.stdev() function to calculate the standard deviation of the satisfaction scores.\n",
    "\n",
    "# Displaying the result\n",
    "print(\"The standard error of the mean satisfaction score is:\", standard_error)\n"
   ]
  },
  {
   "cell_type": "markdown",
   "id": "1e99317e",
   "metadata": {},
   "source": [
    "20. Scenario: A company wants to analyze the relationship between advertising expenditure and sales. The data collected is as follows:\n",
    "    Advertising Expenditure (in thousands): [10, 15, 12, 8, 14]\n",
    "    Sales (in thousands): [25, 30, 28, 20, 26]\n",
    "    Perform a multiple regression analysis to predict sales based on advertising expenditure.\n",
    "\n"
   ]
  },
  {
   "cell_type": "code",
   "execution_count": 22,
   "id": "98032411",
   "metadata": {},
   "outputs": [
    {
     "name": "stdout",
     "output_type": "stream",
     "text": [
      "[23.72560976 29.48780488 26.0304878  21.42073171 28.33536585]\n"
     ]
    }
   ],
   "source": [
    "import numpy as np\n",
    "from sklearn.linear_model import LinearRegression\n",
    "\n",
    "# Advertising Expenditure (in thousands)\n",
    "X = np.array([10, 15, 12, 8, 14]).reshape((-1, 1))\n",
    "\n",
    "# Sales (in thousands)\n",
    "y = np.array([25, 30, 28, 20, 26])\n",
    "\n",
    "# Create a linear regression model\n",
    "model = LinearRegression()\n",
    "\n",
    "# Fit the model to the data\n",
    "model.fit(X, y)\n",
    "\n",
    "# Predict sales based on advertising expenditure\n",
    "predicted_sales = model.predict(X)\n",
    "\n",
    "# Print the predicted sales\n",
    "print(predicted_sales)\n"
   ]
  }
 ],
 "metadata": {
  "kernelspec": {
   "display_name": "Python 3 (ipykernel)",
   "language": "python",
   "name": "python3"
  },
  "language_info": {
   "codemirror_mode": {
    "name": "ipython",
    "version": 3
   },
   "file_extension": ".py",
   "mimetype": "text/x-python",
   "name": "python",
   "nbconvert_exporter": "python",
   "pygments_lexer": "ipython3",
   "version": "3.9.7"
  }
 },
 "nbformat": 4,
 "nbformat_minor": 5
}
